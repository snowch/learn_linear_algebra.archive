{
 "cells": [
  {
   "cell_type": "markdown",
   "id": "019d333c-f2be-40ed-aa4e-93821289df42",
   "metadata": {},
   "source": [
    "### Introduction\n",
    "\n",
    "Coming soon ...\n"
   ]
  },
  {
   "cell_type": "markdown",
   "id": "56f5e0ab-0669-4c4d-84fd-99d38ce23dd4",
   "metadata": {},
   "source": [
    "### Solving Linear Equations\n",
    "\n",
    "Let's start by considering this System of Linear equations:\n",
    "\n",
    "$$\n",
    "\\begin{align*}\n",
    "x + 2y + 3z &= 4 \\\\\n",
    "& \\\\\n",
    "y + 2z &= 3 \\\\\n",
    "& \\\\\n",
    "z &= 2\n",
    "\\end{align*}\n",
    "$$\n",
    "\n",
    "Let's put this into Matrix format:\n",
    "\n",
    "$$\n",
    "Ax = b\n",
    "$$"
   ]
  },
  {
   "cell_type": "code",
   "execution_count": 1,
   "id": "9661658e-bbc8-473c-8a73-9f67f9d54a49",
   "metadata": {},
   "outputs": [
    {
     "data": {
      "text/html": [
       "<html>\\(\\displaystyle \\left(\\begin{array}{rrr}\n",
       "1 & 2 & 3 \\\\\n",
       "0 & 1 & 2 \\\\\n",
       "0 & 0 & 1\n",
       "\\end{array}\\right)\\)</html>"
      ],
      "text/latex": [
       "$\\displaystyle \\left(\\begin{array}{rrr}\n",
       "1 & 2 & 3 \\\\\n",
       "0 & 1 & 2 \\\\\n",
       "0 & 0 & 1\n",
       "\\end{array}\\right)$"
      ],
      "text/plain": [
       "[1 2 3]\n",
       "[0 1 2]\n",
       "[0 0 1]"
      ]
     },
     "metadata": {},
     "output_type": "display_data"
    }
   ],
   "source": [
    "# the first parameter '3' means use three rows\n",
    "A = matrix(3, [1,2,3,0,1,2,0,0,1])\n",
    "show(A)"
   ]
  },
  {
   "cell_type": "code",
   "execution_count": 2,
   "id": "1cf3beec-dc22-49bc-8718-d4ad1ac9c31f",
   "metadata": {},
   "outputs": [
    {
     "data": {
      "text/html": [
       "<html>\\(\\displaystyle \\left(4,\\,3,\\,2\\right)\\)</html>"
      ],
      "text/latex": [
       "$\\displaystyle \\left(4,\\,3,\\,2\\right)$"
      ],
      "text/plain": [
       "(4, 3, 2)"
      ]
     },
     "metadata": {},
     "output_type": "display_data"
    }
   ],
   "source": [
    "b = vector([4,3,2])\n",
    "show(b)"
   ]
  },
  {
   "cell_type": "code",
   "execution_count": 3,
   "id": "30aca7f6-b9b3-414d-8060-589aadf8c989",
   "metadata": {},
   "outputs": [
    {
     "data": {
      "text/plain": [
       "(0, -1, 2)"
      ]
     },
     "execution_count": 3,
     "metadata": {},
     "output_type": "execute_result"
    }
   ],
   "source": [
    "A.solve_right(b)"
   ]
  },
  {
   "cell_type": "markdown",
   "id": "17c2af75-3b6b-40e4-b3a6-17a980afdc73",
   "metadata": {},
   "source": [
    "The output tells us the following values solve the equation:\n",
    "\n",
    "$x = 0$, $y = -1$, and $z = 2$.\n",
    "\n",
    "A linear system may have no solution, one solution or many solutions.  We will explore this aspect in a subsequent notebook."
   ]
  },
  {
   "cell_type": "code",
   "execution_count": 4,
   "id": "f58bad6c-1d6b-42a2-9a8b-c42bca89de96",
   "metadata": {},
   "outputs": [],
   "source": [
    "# get the 'solution' vector from solve_right\n",
    "s = A.solve_right(b)"
   ]
  },
  {
   "cell_type": "markdown",
   "id": "f2ba6fd0-8eb6-46fa-b224-566718170d98",
   "metadata": {},
   "source": [
    "The solution vector contains the values for `x`, `y`, `z`.  We can plug those back into our system:\n",
    "\n",
    "$As = b$"
   ]
  },
  {
   "cell_type": "code",
   "execution_count": 5,
   "id": "06dfd0b9-3601-4fb3-871a-ff2a809b17fa",
   "metadata": {},
   "outputs": [
    {
     "data": {
      "text/plain": [
       "(4, 3, 2)"
      ]
     },
     "execution_count": 5,
     "metadata": {},
     "output_type": "execute_result"
    }
   ],
   "source": [
    "A*s"
   ]
  },
  {
   "cell_type": "markdown",
   "id": "55a6c0c6-9a39-49fa-85d9-b850b75a7604",
   "metadata": {},
   "source": [
    "As expected, the result from $As$ is equal to the value of $b$ vector:"
   ]
  },
  {
   "cell_type": "code",
   "execution_count": 6,
   "id": "ed510c35-858e-4e85-9d2e-516c963ddd8f",
   "metadata": {},
   "outputs": [
    {
     "data": {
      "text/plain": [
       "True"
      ]
     },
     "execution_count": 6,
     "metadata": {},
     "output_type": "execute_result"
    }
   ],
   "source": [
    "A*s == b"
   ]
  },
  {
   "cell_type": "markdown",
   "id": "1d0ac25c-2f2c-4f81-afd5-beff6f9baaa1",
   "metadata": {},
   "source": [
    "### What are `QQ`, `ZZ`, `RR`, `CC`, etc?\n",
    "\n",
    "You will frequently see `matrix()` and `vector()` having the first parameter like the following:\n",
    "\n",
    "```\n",
    "A = matrix(QQ, 3, [1,2,3,0,1,2,0,0,1])\n",
    "b = vector(QQ, [4,3,2])\n",
    "```\n",
    "Here `QQ` means Rational Numbers.  Common number types are:\n",
    "\n",
    "- `ZZ` - Integer Numbers\n",
    "- `RR` - Real Number\n",
    "- `QQ` - Rational Numbers\n",
    "- `CC` - Complex Numbers"
   ]
  },
  {
   "cell_type": "markdown",
   "id": "5c5f2669-467d-4994-aeab-f1913506952c",
   "metadata": {},
   "source": [
    "### Solve right versus Solve left\n",
    "\n",
    "In SageMath, `solve_right` and `solve_left` are methods used to solve matrix equations. The difference lies in which side of the equation the matrix is placed and which side the solution is returned.\n",
    "\n",
    "1. `solve_right`: This method is used to solve matrix equations of the form \\( AX = B \\), where \\( A \\) is the matrix and \\( B \\) is the right-hand side. In other words, you provide the matrix \\( A \\) and the result \\( B \\), and the method will return the solution \\( X \\). \n",
    "\n",
    "2. `solve_left`: This method is used to solve matrix equations of the form \\( XA = B \\), where \\( A \\) is the matrix and \\( B \\) is the right-hand side. Here, you provide the matrix \\( A \\) and the result \\( B \\), and the method returns the solution \\( X \\).\n"
   ]
  },
  {
   "cell_type": "code",
   "execution_count": null,
   "id": "8677cead-64d6-47bb-ad33-865e3bef323b",
   "metadata": {},
   "outputs": [],
   "source": []
  }
 ],
 "metadata": {
  "kernelspec": {
   "display_name": "SageMath 10.3",
   "language": "sage",
   "name": "sagemath"
  },
  "language_info": {
   "codemirror_mode": {
    "name": "ipython",
    "version": 3
   },
   "file_extension": ".py",
   "mimetype": "text/x-python",
   "name": "python",
   "nbconvert_exporter": "python",
   "pygments_lexer": "ipython3",
   "version": "3.10.12"
  }
 },
 "nbformat": 4,
 "nbformat_minor": 5
}
