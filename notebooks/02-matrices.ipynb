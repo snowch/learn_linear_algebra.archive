{
 "cells": [
  {
   "cell_type": "markdown",
   "id": "019d333c-f2be-40ed-aa4e-93821289df42",
   "metadata": {},
   "source": [
    "### Introduction\n",
    "\n",
    "Coming soon ...\n"
   ]
  },
  {
   "cell_type": "markdown",
   "id": "56f5e0ab-0669-4c4d-84fd-99d38ce23dd4",
   "metadata": {},
   "source": [
    "$Ax = b$"
   ]
  },
  {
   "cell_type": "code",
   "execution_count": 13,
   "id": "9661658e-bbc8-473c-8a73-9f67f9d54a49",
   "metadata": {},
   "outputs": [
    {
     "data": {
      "text/plain": [
       "[1 2 3]\n",
       "[0 1 2]\n",
       "[0 0 1]"
      ]
     },
     "execution_count": 13,
     "metadata": {},
     "output_type": "execute_result"
    }
   ],
   "source": [
    "A = matrix(3, [1,2,3,0,1,2,0,0,1])\n",
    "A"
   ]
  },
  {
   "cell_type": "code",
   "execution_count": 16,
   "id": "1cf3beec-dc22-49bc-8718-d4ad1ac9c31f",
   "metadata": {},
   "outputs": [
    {
     "data": {
      "text/plain": [
       "(4, 3, 2)"
      ]
     },
     "execution_count": 16,
     "metadata": {},
     "output_type": "execute_result"
    }
   ],
   "source": [
    "b = vector([4,3,2])\n",
    "b"
   ]
  },
  {
   "cell_type": "code",
   "execution_count": 17,
   "id": "30aca7f6-b9b3-414d-8060-589aadf8c989",
   "metadata": {},
   "outputs": [
    {
     "data": {
      "text/plain": [
       "(0, -1, 2)"
      ]
     },
     "execution_count": 17,
     "metadata": {},
     "output_type": "execute_result"
    }
   ],
   "source": [
    "M.solve_right(b)"
   ]
  },
  {
   "cell_type": "markdown",
   "id": "1d0ac25c-2f2c-4f81-afd5-beff6f9baaa1",
   "metadata": {},
   "source": [
    "---\n",
    "\n",
    "**TIP:** \n",
    "You will frequently see `matrix()` and `vector()` having the first parameter like the following:\n",
    "\n",
    "```\n",
    "A = matrix(QQ, 3, [1,2,3,0,1,2,0,0,1])\n",
    "b = vector(QQ, [4,3,2])\n",
    "```\n",
    "Here `QQ` means Rational Numbers.  Common number types are:\n",
    "\n",
    "- `ZZ` - Integer Numbers\n",
    "- `RR` - Real Number\n",
    "- `QQ` - Rational Numbers\n",
    "- `CC` - Complex Numbers\n",
    "\n",
    "---"
   ]
  },
  {
   "cell_type": "code",
   "execution_count": null,
   "id": "8941e325-6e40-4cc7-9d12-cfda73681f74",
   "metadata": {},
   "outputs": [],
   "source": []
  }
 ],
 "metadata": {
  "kernelspec": {
   "display_name": "SageMath 10.3",
   "language": "sage",
   "name": "sagemath"
  },
  "language_info": {
   "codemirror_mode": {
    "name": "ipython",
    "version": 3
   },
   "file_extension": ".py",
   "mimetype": "text/x-python",
   "name": "python",
   "nbconvert_exporter": "python",
   "pygments_lexer": "ipython3",
   "version": "3.10.12"
  }
 },
 "nbformat": 4,
 "nbformat_minor": 5
}
