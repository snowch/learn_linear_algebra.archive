{
 "cells": [
  {
   "cell_type": "markdown",
   "id": "6650dbd8-ac52-4e97-b975-5407fe67bd12",
   "metadata": {},
   "source": [
    "Linear Transformations: Introduce the concept of functions that map vectors to vectors while preserving linear combinations. Show how matrices represent linear transformations and how to compute them."
   ]
  },
  {
   "cell_type": "code",
   "execution_count": null,
   "id": "475a38c6-1de3-4b9b-ad48-1db3886c0f23",
   "metadata": {},
   "outputs": [],
   "source": []
  }
 ],
 "metadata": {
  "kernelspec": {
   "display_name": "SageMath 10.3",
   "language": "sage",
   "name": "sagemath"
  },
  "language_info": {
   "codemirror_mode": {
    "name": "ipython",
    "version": 3
   },
   "file_extension": ".py",
   "mimetype": "text/x-python",
   "name": "python",
   "nbconvert_exporter": "python",
   "pygments_lexer": "ipython3",
   "version": "3.10.12"
  }
 },
 "nbformat": 4,
 "nbformat_minor": 5
}
