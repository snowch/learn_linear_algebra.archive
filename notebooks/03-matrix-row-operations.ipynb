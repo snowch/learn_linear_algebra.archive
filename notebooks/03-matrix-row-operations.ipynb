{
 "cells": [
  {
   "cell_type": "markdown",
   "id": "3f3dd293-a1c1-40dc-a322-b8f7373a10f7",
   "metadata": {},
   "source": [
    "### Matrix Row Operations\n",
    "\n",
    "TODO..."
   ]
  },
  {
   "cell_type": "code",
   "execution_count": 9,
   "id": "cfaa36fd-809a-44b4-8f0a-7f44ae111957",
   "metadata": {},
   "outputs": [
    {
     "data": {
      "text/plain": [
       "[ 1  2 -1]\n",
       "[ 0  1  3]\n",
       "[ 2 -1  1]"
      ]
     },
     "execution_count": 9,
     "metadata": {},
     "output_type": "execute_result"
    }
   ],
   "source": [
    "A = matrix(3, [1,2,-1,0,1,3,2,-1,1])\n",
    "A"
   ]
  },
  {
   "cell_type": "code",
   "execution_count": 10,
   "id": "e08a2661-24a4-4170-882c-df504753f1cb",
   "metadata": {},
   "outputs": [
    {
     "data": {
      "text/plain": [
       "(4, 7, 1)"
      ]
     },
     "execution_count": 10,
     "metadata": {},
     "output_type": "execute_result"
    }
   ],
   "source": [
    "b = vector([4,7,1])\n",
    "b"
   ]
  },
  {
   "cell_type": "code",
   "execution_count": 11,
   "id": "38cbda5f-fcb6-4ffd-8ded-e9acfac0d29b",
   "metadata": {},
   "outputs": [
    {
     "data": {
      "text/plain": [
       "(8/9, 7/3, 14/9)"
      ]
     },
     "execution_count": 11,
     "metadata": {},
     "output_type": "execute_result"
    }
   ],
   "source": [
    "A.solve_right(b)"
   ]
  },
  {
   "cell_type": "markdown",
   "id": "1bed1c83-da16-4799-ba2c-c93890fa4cc2",
   "metadata": {},
   "source": [
    "### Augmented Matrices"
   ]
  },
  {
   "cell_type": "code",
   "execution_count": 12,
   "id": "53fe62d6-6e09-4322-9f55-c4881c5b9a2b",
   "metadata": {},
   "outputs": [
    {
     "data": {
      "text/plain": [
       "[ 1  2 -1  4]\n",
       "[ 0  1  3  7]\n",
       "[ 2 -1  1  1]"
      ]
     },
     "execution_count": 12,
     "metadata": {},
     "output_type": "execute_result"
    }
   ],
   "source": [
    "A_aug = A.augment(b)\n",
    "A_aug"
   ]
  },
  {
   "cell_type": "markdown",
   "id": "e0c9d267-bff9-469f-bf06-f5bf9b44b5d9",
   "metadata": {},
   "source": [
    "### Echelon Form"
   ]
  },
  {
   "cell_type": "code",
   "execution_count": 13,
   "id": "38c8d306-749b-4415-a66f-1d1ebef0a789",
   "metadata": {},
   "outputs": [
    {
     "data": {
      "text/plain": [
       "[ 1  0 11 18]\n",
       "[ 0  1  3  7]\n",
       "[ 0  0 18 28]"
      ]
     },
     "execution_count": 13,
     "metadata": {},
     "output_type": "execute_result"
    }
   ],
   "source": [
    "echelon_form = A_aug.echelon_form()\n",
    "echelon_form"
   ]
  },
  {
   "cell_type": "code",
   "execution_count": 14,
   "id": "d2742bbc-3b47-4d10-9014-4284c6300a1c",
   "metadata": {},
   "outputs": [
    {
     "data": {
      "text/plain": [
       "[   1    0    0  8/9]\n",
       "[   0    1    0  7/3]\n",
       "[   0    0    1 14/9]"
      ]
     },
     "execution_count": 14,
     "metadata": {},
     "output_type": "execute_result"
    }
   ],
   "source": [
    "rref = A_aug.rref()\n",
    "rref"
   ]
  },
  {
   "cell_type": "markdown",
   "id": "7d56df0d-2ebd-4e42-a01b-7f1a443cb6f4",
   "metadata": {},
   "source": [
    "### Swap Rows"
   ]
  },
  {
   "cell_type": "code",
   "execution_count": 15,
   "id": "692959b4-2569-4081-93d1-ee94db35781c",
   "metadata": {},
   "outputs": [
    {
     "data": {
      "text/plain": [
       "[ 1  2 -1  4]\n",
       "[ 2 -1  1  1]\n",
       "[ 0  1  3  7]"
      ]
     },
     "execution_count": 15,
     "metadata": {},
     "output_type": "execute_result"
    }
   ],
   "source": [
    "A_aug.swap_rows(1,2)\n",
    "A_aug"
   ]
  },
  {
   "cell_type": "code",
   "execution_count": 16,
   "id": "35ac69d1-1f37-47b0-b5f0-78339650e370",
   "metadata": {},
   "outputs": [
    {
     "ename": "TypeError",
     "evalue": "Rescaling row by Real Field with 53 bits of precision element cannot be done over Integer Ring, use change_ring or with_rescaled_row instead.",
     "output_type": "error",
     "traceback": [
      "\u001b[0;31m---------------------------------------------------------------------------\u001b[0m",
      "\u001b[0;31mTypeError\u001b[0m                                 Traceback (most recent call last)",
      "File \u001b[0;32m~/sage/src/sage/matrix/matrix0.pyx:3148\u001b[0m, in \u001b[0;36msage.matrix.matrix0.Matrix.rescale_row\u001b[0;34m()\u001b[0m\n\u001b[1;32m   3147\u001b[0m try:\n\u001b[0;32m-> 3148\u001b[0m     s = self._coerce_element(s)\n\u001b[1;32m   3149\u001b[0m     self.rescale_row_c(i, s, start_col)\n",
      "File \u001b[0;32m~/sage/src/sage/matrix/matrix0.pyx:1571\u001b[0m, in \u001b[0;36msage.matrix.matrix0.Matrix._coerce_element\u001b[0;34m()\u001b[0m\n\u001b[1;32m   1570\u001b[0m     return x\n\u001b[0;32m-> 1571\u001b[0m return self._base_ring(x)\n\u001b[1;32m   1572\u001b[0m \n",
      "File \u001b[0;32m~/sage/src/sage/structure/parent.pyx:901\u001b[0m, in \u001b[0;36msage.structure.parent.Parent.__call__\u001b[0;34m()\u001b[0m\n\u001b[1;32m    900\u001b[0m if no_extra_args:\n\u001b[0;32m--> 901\u001b[0m     return mor._call_(x)\n\u001b[1;32m    902\u001b[0m else:\n",
      "File \u001b[0;32m~/sage/src/sage/structure/coerce_maps.pyx:292\u001b[0m, in \u001b[0;36msage.structure.coerce_maps.NamedConvertMap._call_\u001b[0;34m()\u001b[0m\n\u001b[1;32m    291\u001b[0m cdef Map m\n\u001b[0;32m--> 292\u001b[0m cdef Element e = method(C)\n\u001b[1;32m    293\u001b[0m if e is None:\n",
      "File \u001b[0;32m~/sage/src/sage/rings/real_mpfr.pyx:2184\u001b[0m, in \u001b[0;36msage.rings.real_mpfr.RealNumber._integer_\u001b[0;34m()\u001b[0m\n\u001b[1;32m   2183\u001b[0m \n\u001b[0;32m-> 2184\u001b[0m         raise TypeError(\"Attempt to coerce non-integral RealNumber to Integer\")\n\u001b[1;32m   2185\u001b[0m \n",
      "\u001b[0;31mTypeError\u001b[0m: Attempt to coerce non-integral RealNumber to Integer",
      "\nDuring handling of the above exception, another exception occurred:\n",
      "\u001b[0;31mTypeError\u001b[0m                                 Traceback (most recent call last)",
      "Cell \u001b[0;32mIn[16], line 1\u001b[0m\n\u001b[0;32m----> 1\u001b[0m \u001b[43mA_aug\u001b[49m\u001b[38;5;241;43m.\u001b[39;49m\u001b[43mrescale_row\u001b[49m\u001b[43m(\u001b[49m\u001b[43mInteger\u001b[49m\u001b[43m(\u001b[49m\u001b[38;5;241;43m1\u001b[39;49m\u001b[43m)\u001b[49m\u001b[43m,\u001b[49m\u001b[43m \u001b[49m\u001b[43mRealNumber\u001b[49m\u001b[43m(\u001b[49m\u001b[38;5;124;43m'\u001b[39;49m\u001b[38;5;124;43m0.5\u001b[39;49m\u001b[38;5;124;43m'\u001b[39;49m\u001b[43m)\u001b[49m\u001b[43m)\u001b[49m\n\u001b[1;32m      2\u001b[0m A_aug\n",
      "File \u001b[0;32m~/sage/src/sage/matrix/matrix0.pyx:3151\u001b[0m, in \u001b[0;36msage.matrix.matrix0.Matrix.rescale_row\u001b[0;34m()\u001b[0m\n\u001b[1;32m   3149\u001b[0m         self.rescale_row_c(i, s, start_col)\n\u001b[1;32m   3150\u001b[0m     except TypeError:\n\u001b[0;32m-> 3151\u001b[0m         raise TypeError('Rescaling row by %s element cannot be done over %s, use change_ring or with_rescaled_row instead.' % (s.parent(), self.base_ring()))\n\u001b[1;32m   3152\u001b[0m \n\u001b[1;32m   3153\u001b[0m cdef rescale_row_c(self, Py_ssize_t i, s, Py_ssize_t start_col) noexcept:\n",
      "\u001b[0;31mTypeError\u001b[0m: Rescaling row by Real Field with 53 bits of precision element cannot be done over Integer Ring, use change_ring or with_rescaled_row instead."
     ]
    }
   ],
   "source": [
    "A_aug.rescale_row(1, 0.5)\n",
    "A_aug"
   ]
  },
  {
   "cell_type": "code",
   "execution_count": null,
   "id": "c7e5bd7c-9f0e-42e7-8590-c3e2178e3e40",
   "metadata": {},
   "outputs": [],
   "source": []
  },
  {
   "cell_type": "code",
   "execution_count": null,
   "id": "b615a6be-ddbb-49c7-8565-c52454637e0a",
   "metadata": {},
   "outputs": [],
   "source": []
  }
 ],
 "metadata": {
  "kernelspec": {
   "display_name": "SageMath 10.3",
   "language": "sage",
   "name": "sagemath"
  },
  "language_info": {
   "codemirror_mode": {
    "name": "ipython",
    "version": 3
   },
   "file_extension": ".py",
   "mimetype": "text/x-python",
   "name": "python",
   "nbconvert_exporter": "python",
   "pygments_lexer": "ipython3",
   "version": "3.10.12"
  }
 },
 "nbformat": 4,
 "nbformat_minor": 5
}
