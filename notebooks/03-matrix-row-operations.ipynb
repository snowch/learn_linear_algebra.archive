{
 "cells": [
  {
   "cell_type": "markdown",
   "id": "3f3dd293-a1c1-40dc-a322-b8f7373a10f7",
   "metadata": {},
   "source": [
    "### Matrix Row Operations\n",
    "\n",
    "In this section we show some basic row operations."
   ]
  },
  {
   "cell_type": "code",
   "execution_count": 13,
   "id": "cfaa36fd-809a-44b4-8f0a-7f44ae111957",
   "metadata": {},
   "outputs": [
    {
     "data": {
      "text/html": [
       "<html>\\(\\displaystyle \\left(\\begin{array}{rrr}\n",
       "1 & 2 & -1 \\\\\n",
       "0 & 1 & 3 \\\\\n",
       "2 & -1 & 1\n",
       "\\end{array}\\right)\\)</html>"
      ],
      "text/latex": [
       "$\\displaystyle \\left(\\begin{array}{rrr}\n",
       "1 & 2 & -1 \\\\\n",
       "0 & 1 & 3 \\\\\n",
       "2 & -1 & 1\n",
       "\\end{array}\\right)$"
      ],
      "text/plain": [
       "[ 1  2 -1]\n",
       "[ 0  1  3]\n",
       "[ 2 -1  1]"
      ]
     },
     "metadata": {},
     "output_type": "display_data"
    }
   ],
   "source": [
    "A = matrix(QQ, 3, [1,2,-1,0,1,3,2,-1,1])\n",
    "show(A)"
   ]
  },
  {
   "cell_type": "code",
   "execution_count": 12,
   "id": "e08a2661-24a4-4170-882c-df504753f1cb",
   "metadata": {},
   "outputs": [
    {
     "data": {
      "text/html": [
       "<html>\\(\\displaystyle \\left(4,\\,7,\\,1\\right)\\)</html>"
      ],
      "text/latex": [
       "$\\displaystyle \\left(4,\\,7,\\,1\\right)$"
      ],
      "text/plain": [
       "(4, 7, 1)"
      ]
     },
     "metadata": {},
     "output_type": "display_data"
    }
   ],
   "source": [
    "b = vector(QQ, [4,7,1])\n",
    "show(b)"
   ]
  },
  {
   "cell_type": "markdown",
   "id": "15b85e00-cd06-46a7-ad6f-f928a7168aec",
   "metadata": {},
   "source": [
    "Let's check this matrix has a solution:"
   ]
  },
  {
   "cell_type": "code",
   "execution_count": 14,
   "id": "38cbda5f-fcb6-4ffd-8ded-e9acfac0d29b",
   "metadata": {},
   "outputs": [
    {
     "data": {
      "text/html": [
       "<html>\\(\\displaystyle \\left(\\frac{8}{9},\\,\\frac{7}{3},\\,\\frac{14}{9}\\right)\\)</html>"
      ],
      "text/latex": [
       "$\\displaystyle \\left(\\frac{8}{9},\\,\\frac{7}{3},\\,\\frac{14}{9}\\right)$"
      ],
      "text/plain": [
       "(8/9, 7/3, 14/9)"
      ]
     },
     "metadata": {},
     "output_type": "display_data"
    }
   ],
   "source": [
    "solution = A.solve_right(b)\n",
    "show(solution)"
   ]
  },
  {
   "cell_type": "markdown",
   "id": "1bed1c83-da16-4799-ba2c-c93890fa4cc2",
   "metadata": {},
   "source": [
    "### Augmented Matrices\n",
    "\n",
    "We can create an augmented matrix by adding the constants vector ($b$) to the matrix of coefficients ($A$)"
   ]
  },
  {
   "cell_type": "code",
   "execution_count": 11,
   "id": "53fe62d6-6e09-4322-9f55-c4881c5b9a2b",
   "metadata": {},
   "outputs": [
    {
     "data": {
      "text/html": [
       "<html>\\(\\displaystyle \\left(\\begin{array}{rrr|r}\n",
       "1 & 2 & -1 & 4 \\\\\n",
       "0 & 1 & 3 & 7 \\\\\n",
       "2 & -1 & 1 & 1\n",
       "\\end{array}\\right)\\)</html>"
      ],
      "text/latex": [
       "$\\displaystyle \\left(\\begin{array}{rrr|r}\n",
       "1 & 2 & -1 & 4 \\\\\n",
       "0 & 1 & 3 & 7 \\\\\n",
       "2 & -1 & 1 & 1\n",
       "\\end{array}\\right)$"
      ],
      "text/plain": [
       "[ 1  2 -1| 4]\n",
       "[ 0  1  3| 7]\n",
       "[ 2 -1  1| 1]"
      ]
     },
     "metadata": {},
     "output_type": "display_data"
    }
   ],
   "source": [
    "A_aug = A.augment(b, subdivide=True)\n",
    "show(A_aug)"
   ]
  },
  {
   "cell_type": "markdown",
   "id": "e0c9d267-bff9-469f-bf06-f5bf9b44b5d9",
   "metadata": {},
   "source": [
    "### Reduced row echelon form (rref)\n",
    "\n",
    "We show the method to retrieve the rref before showing row operations to manually obtain the rref."
   ]
  },
  {
   "cell_type": "code",
   "execution_count": 10,
   "id": "d2742bbc-3b47-4d10-9014-4284c6300a1c",
   "metadata": {},
   "outputs": [
    {
     "data": {
      "text/html": [
       "<html>\\(\\displaystyle \\left(\\begin{array}{rrr|r}\n",
       "1 & 0 & 0 & \\frac{8}{9} \\\\\n",
       "0 & 1 & 0 & \\frac{7}{3} \\\\\n",
       "0 & 0 & 1 & \\frac{14}{9}\n",
       "\\end{array}\\right)\\)</html>"
      ],
      "text/latex": [
       "$\\displaystyle \\left(\\begin{array}{rrr|r}\n",
       "1 & 0 & 0 & \\frac{8}{9} \\\\\n",
       "0 & 1 & 0 & \\frac{7}{3} \\\\\n",
       "0 & 0 & 1 & \\frac{14}{9}\n",
       "\\end{array}\\right)$"
      ],
      "text/plain": [
       "[   1    0    0| 8/9]\n",
       "[   0    1    0| 7/3]\n",
       "[   0    0    1|14/9]"
      ]
     },
     "metadata": {},
     "output_type": "display_data"
    }
   ],
   "source": [
    "rref = A_aug.rref()\n",
    "show(rref)"
   ]
  },
  {
   "cell_type": "markdown",
   "id": "7d56df0d-2ebd-4e42-a01b-7f1a443cb6f4",
   "metadata": {},
   "source": [
    "### Row operations\n",
    "\n",
    "The three basic row operations are:\n",
    "\n",
    "- Swap Rows\n",
    "- Rescale Rows\n",
    "- Add Multiple of Row\n",
    "\n",
    "Let's start with the augmented matrix:"
   ]
  },
  {
   "cell_type": "code",
   "execution_count": 15,
   "id": "11e0c508-1da9-4623-bb87-751e21db8b4d",
   "metadata": {},
   "outputs": [
    {
     "data": {
      "text/html": [
       "<html>\\(\\displaystyle \\left(\\begin{array}{rrr|r}\n",
       "1 & 2 & -1 & 4 \\\\\n",
       "0 & 1 & 3 & 7 \\\\\n",
       "2 & -1 & 1 & 1\n",
       "\\end{array}\\right)\\)</html>"
      ],
      "text/latex": [
       "$\\displaystyle \\left(\\begin{array}{rrr|r}\n",
       "1 & 2 & -1 & 4 \\\\\n",
       "0 & 1 & 3 & 7 \\\\\n",
       "2 & -1 & 1 & 1\n",
       "\\end{array}\\right)$"
      ],
      "text/plain": [
       "[ 1  2 -1| 4]\n",
       "[ 0  1  3| 7]\n",
       "[ 2 -1  1| 1]"
      ]
     },
     "metadata": {},
     "output_type": "display_data"
    }
   ],
   "source": [
    "show(A_aug)"
   ]
  },
  {
   "cell_type": "code",
   "execution_count": 16,
   "id": "e9e9de17-aa8a-47ae-a819-eae0a27aae31",
   "metadata": {},
   "outputs": [
    {
     "data": {
      "text/html": [
       "<html>\\(\\displaystyle \\left(\\begin{array}{rrr|r}\n",
       "1 & 2 & -1 & 4 \\\\\n",
       "0 & 1 & 3 & 7 \\\\\n",
       "0 & -5 & 3 & -7\n",
       "\\end{array}\\right)\\)</html>"
      ],
      "text/latex": [
       "$\\displaystyle \\left(\\begin{array}{rrr|r}\n",
       "1 & 2 & -1 & 4 \\\\\n",
       "0 & 1 & 3 & 7 \\\\\n",
       "0 & -5 & 3 & -7\n",
       "\\end{array}\\right)$"
      ],
      "text/plain": [
       "[ 1  2 -1| 4]\n",
       "[ 0  1  3| 7]\n",
       "[ 0 -5  3|-7]"
      ]
     },
     "metadata": {},
     "output_type": "display_data"
    }
   ],
   "source": [
    "# Row 3  <- Row 3 - 2*Row 1\n",
    "A_aug.add_multiple_of_row(2, 0, -2)\n",
    "show(A_aug)"
   ]
  },
  {
   "cell_type": "code",
   "execution_count": 17,
   "id": "73d5994b-cdfe-41ed-8b49-31186b8db6a6",
   "metadata": {},
   "outputs": [
    {
     "data": {
      "text/html": [
       "<html>\\(\\displaystyle \\left(\\begin{array}{rrr|r}\n",
       "1 & 2 & -1 & 4 \\\\\n",
       "0 & -5 & 3 & -7 \\\\\n",
       "0 & 1 & 3 & 7\n",
       "\\end{array}\\right)\\)</html>"
      ],
      "text/latex": [
       "$\\displaystyle \\left(\\begin{array}{rrr|r}\n",
       "1 & 2 & -1 & 4 \\\\\n",
       "0 & -5 & 3 & -7 \\\\\n",
       "0 & 1 & 3 & 7\n",
       "\\end{array}\\right)$"
      ],
      "text/plain": [
       "[ 1  2 -1| 4]\n",
       "[ 0 -5  3|-7]\n",
       "[ 0  1  3| 7]"
      ]
     },
     "metadata": {},
     "output_type": "display_data"
    }
   ],
   "source": [
    "# Row 3 <-> Row 2\n",
    "A_aug.swap_rows(1, 2)\n",
    "show(A_aug)"
   ]
  },
  {
   "cell_type": "code",
   "execution_count": 18,
   "id": "a89bbf09-a2da-4336-8dbb-573aa0582852",
   "metadata": {},
   "outputs": [
    {
     "data": {
      "text/html": [
       "<html>\\(\\displaystyle \\left(\\begin{array}{rrr|r}\n",
       "1 & 2 & -1 & 4 \\\\\n",
       "0 & -5 & 3 & -7 \\\\\n",
       "0 & -5 & -15 & -35\n",
       "\\end{array}\\right)\\)</html>"
      ],
      "text/latex": [
       "$\\displaystyle \\left(\\begin{array}{rrr|r}\n",
       "1 & 2 & -1 & 4 \\\\\n",
       "0 & -5 & 3 & -7 \\\\\n",
       "0 & -5 & -15 & -35\n",
       "\\end{array}\\right)$"
      ],
      "text/plain": [
       "[  1   2  -1|  4]\n",
       "[  0  -5   3| -7]\n",
       "[  0  -5 -15|-35]"
      ]
     },
     "metadata": {},
     "output_type": "display_data"
    }
   ],
   "source": [
    "# Row 3 <- -5*Row 3\n",
    "A_aug.rescale_row(2, -5)\n",
    "show(A_aug)"
   ]
  },
  {
   "cell_type": "markdown",
   "id": "261d547b-c35e-4cee-8a2a-e7ae3b38d497",
   "metadata": {},
   "source": [
    "... and so on\n",
    "\n",
    "See if you can complete the operations to achieve reduce row echelon form (rref).\n",
    "\n",
    "Each of these operations modify (mutate) the original matrix.  There are equivalent operations that leave the original matrix unchanged and return a new matrix.  These operations have _similar_ names, but have the prefix `with_`, e.g.\n",
    "\n",
    " - `swap_rows()` -> `with_swapped_rows()`\n",
    " - `rescale_row()` -> `with_rescaled_row()`\n",
    " - `add_multiple_of_row()` -> `with_added_multiple_of_row()`\n",
    "\n",
    "The documentation for these (and many more) matrix operations can be found [here](https://doc.sagemath.org/html/en/reference/matrices/sage/matrix/matrix0.html)."
   ]
  },
  {
   "cell_type": "code",
   "execution_count": null,
   "id": "14dcb71e-598e-474f-bf1b-568291474bc7",
   "metadata": {},
   "outputs": [],
   "source": []
  }
 ],
 "metadata": {
  "kernelspec": {
   "display_name": "SageMath 10.3",
   "language": "sage",
   "name": "sagemath"
  },
  "language_info": {
   "codemirror_mode": {
    "name": "ipython",
    "version": 3
   },
   "file_extension": ".py",
   "mimetype": "text/x-python",
   "name": "python",
   "nbconvert_exporter": "python",
   "pygments_lexer": "ipython3",
   "version": "3.10.12"
  }
 },
 "nbformat": 4,
 "nbformat_minor": 5
}
