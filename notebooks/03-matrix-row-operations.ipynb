{
 "cells": [
  {
   "cell_type": "markdown",
   "id": "3f3dd293-a1c1-40dc-a322-b8f7373a10f7",
   "metadata": {},
   "source": [
    "### Matrix Row Operations\n",
    "\n",
    "TODO..."
   ]
  },
  {
   "cell_type": "code",
   "execution_count": 1,
   "id": "cfaa36fd-809a-44b4-8f0a-7f44ae111957",
   "metadata": {},
   "outputs": [
    {
     "data": {
      "text/plain": [
       "[ 1  2 -1]\n",
       "[ 0  1  3]\n",
       "[ 2 -1  1]"
      ]
     },
     "execution_count": 1,
     "metadata": {},
     "output_type": "execute_result"
    }
   ],
   "source": [
    "A = matrix(3, [1,2,-1,0,1,3,2,-1,1])\n",
    "A"
   ]
  },
  {
   "cell_type": "code",
   "execution_count": 2,
   "id": "e08a2661-24a4-4170-882c-df504753f1cb",
   "metadata": {},
   "outputs": [],
   "source": [
    "b = vector([4,7,1])"
   ]
  },
  {
   "cell_type": "markdown",
   "id": "1bed1c83-da16-4799-ba2c-c93890fa4cc2",
   "metadata": {},
   "source": [
    "### Augmented Matrices"
   ]
  },
  {
   "cell_type": "code",
   "execution_count": 3,
   "id": "53fe62d6-6e09-4322-9f55-c4881c5b9a2b",
   "metadata": {},
   "outputs": [
    {
     "data": {
      "text/plain": [
       "[ 1  2 -1| 4]\n",
       "[ 0  1  3| 7]\n",
       "[ 2 -1  1| 1]"
      ]
     },
     "execution_count": 3,
     "metadata": {},
     "output_type": "execute_result"
    }
   ],
   "source": [
    "A_aug = A.augment(b, subdivide=True)\n",
    "A_aug"
   ]
  },
  {
   "cell_type": "markdown",
   "id": "7d56df0d-2ebd-4e42-a01b-7f1a443cb6f4",
   "metadata": {},
   "source": [
    "### Swap Rows"
   ]
  },
  {
   "cell_type": "code",
   "execution_count": 4,
   "id": "692959b4-2569-4081-93d1-ee94db35781c",
   "metadata": {},
   "outputs": [
    {
     "data": {
      "text/plain": [
       "[ 0  1  3| 7]\n",
       "[ 1  2 -1| 4]\n",
       "[ 2 -1  1| 1]"
      ]
     },
     "execution_count": 4,
     "metadata": {},
     "output_type": "execute_result"
    }
   ],
   "source": [
    "A_aug.swap_rows(0,1)\n",
    "A_aug"
   ]
  },
  {
   "cell_type": "code",
   "execution_count": null,
   "id": "35ac69d1-1f37-47b0-b5f0-78339650e370",
   "metadata": {},
   "outputs": [],
   "source": []
  }
 ],
 "metadata": {
  "kernelspec": {
   "display_name": "SageMath 10.3",
   "language": "sage",
   "name": "sagemath"
  },
  "language_info": {
   "codemirror_mode": {
    "name": "ipython",
    "version": 3
   },
   "file_extension": ".py",
   "mimetype": "text/x-python",
   "name": "python",
   "nbconvert_exporter": "python",
   "pygments_lexer": "ipython3",
   "version": "3.10.12"
  }
 },
 "nbformat": 4,
 "nbformat_minor": 5
}
