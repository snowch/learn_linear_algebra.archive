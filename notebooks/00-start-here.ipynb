{
 "cells": [
  {
   "cell_type": "markdown",
   "metadata": {},
   "source": [
    "### Course Objectives\n",
    "\n",
    "In this workshop, we will learn the basics of Linear Algebra by being hands-on - no math knowledge required!!\n"
   ]
  },
  {
   "cell_type": "markdown",
   "metadata": {},
   "source": [
    "### How to run the workshop\n",
    "\n",
    "This workshop can be run online for free here ([launch](https://mybinder.org/v2/gh/snowch/learn_linear_algebra/master?labpath=00-start-here.ipynb)) - it may take about 5 mins to launch."
   ]
  },
  {
   "cell_type": "markdown",
   "metadata": {
    "jp-MarkdownHeadingCollapsed": true
   },
   "source": [
    "### Feedback\n",
    "\n",
    "If after following this workshop you feel that the objectives haven't been achieved, please [email me](mailto:chsnow123@gmail.com) with your feedback."
   ]
  },
  {
   "cell_type": "markdown",
   "metadata": {},
   "source": [
    "### Pre-requisites\n",
    "\n",
    "You should have basic Python knowledge and be familiar with using Jupyter Notebooks.  If not, the following free hands-on workshops are recommended:\n",
    "\n",
    " - [Python 101](https://hackshack.hpedev.io/workshop/15)\n",
    " - [Jupyter Notebooks 101](https://hackshack.hpedev.io/workshop/25)\n"
   ]
  },
  {
   "cell_type": "markdown",
   "metadata": {},
   "source": [
    "\n",
    "### Contents"
   ]
  },
  {
   "cell_type": "markdown",
   "metadata": {},
   "source": [
    "| Notebook      | Description |\n",
    "| ----------- | ----------- |\n",
    "| [01 Vectors](./01-vectors.ipynb) | Learn the fundamentals of working with Vectors |\n",
    "| [02 Matrices](./02-matrices.ipynb) | Learn the fundamentals of working with Matrices |\n",
    "| [03 Gauss Method](./03-gauss-method.ipynb) | Gauss Method |\n",
    "| [04 Solution Sets](./04-solution-sets.ipynb) | Solution Sets |\n",
    "| [05 Vector Spaces](./05-vector-spaces.ipynb) | Vector Spaces |\n",
    "| [06 Linear Dependence](./06-linear-dependence.ipynb) | Linear Dependence |\n",
    "| [07 Subspaces](./07-subspaces.ipynb) | Subspaces |\n",
    "| [08 Basis](./08-basis.ipynb) | Basis |\n",
    "| [09 Span](./08-span.ipynb) | Span |\n",
    "| [10 Homogenous Linear Systems](./10-homogenous-ls.ipynb) | Homogenous Linear Systems (and nullspace) |\n",
    "| [11 MatrixSpaces](./11-matrixspaces.ipynb) | MatrixSpaces |\n",
    "| [12 Linear Transformations](./12-transformations.ipynb) | functions that map vectors to vectors while preserving linear combinations |\n",
    "| [13 Null Spaces and Column Spaces](./13-nullspaces.ipynb) | Relationship between the null space and the column space |\n",
    "| [14 Projections](./14-projections.ipynb) | Projections |\n",
    "| [15 Orthogonality](./15-orthogonality.ipynb) | Orthogonality |\n",
    "| [16 Determinants](./16-determinants.ipynb) | Define determinants, explain their geometric interpretation, and show how to compute them. |\n",
    "| [17 Eigenvalues and Eigenvectors](./17-eigenvalues.ipynb) | Introduce the concept of eigenvalues and eigenvectors, their geometric interpretation, and their computation.. |"
   ]
  },
  {
   "cell_type": "code",
   "execution_count": null,
   "metadata": {},
   "outputs": [],
   "source": []
  }
 ],
 "metadata": {
  "kernelspec": {
   "display_name": "Python 3 (ipykernel)",
   "language": "python",
   "name": "python3"
  },
  "language_info": {
   "codemirror_mode": {
    "name": "ipython",
    "version": 3
   },
   "file_extension": ".py",
   "mimetype": "text/x-python",
   "name": "python",
   "nbconvert_exporter": "python",
   "pygments_lexer": "ipython3",
   "version": "3.10.12"
  }
 },
 "nbformat": 4,
 "nbformat_minor": 4
}
