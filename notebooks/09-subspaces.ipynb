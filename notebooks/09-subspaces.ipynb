{
 "cells": [
  {
   "cell_type": "markdown",
   "id": "08cca451-503c-4b7f-aeb0-af4ca8c183db",
   "metadata": {},
   "source": [
    "### What is a Subspace?"
   ]
  },
  {
   "cell_type": "markdown",
   "id": "45beb492-5ca7-4809-8b6d-217799947c99",
   "metadata": {},
   "source": [
    "<div style=\"background-color:yellow; padding: 5px 10px 0px 10px; border: 1px solid black;\">\n",
    "    \n",
    "Definition: **Subspace:** \n",
    "\n",
    "In linear algebra, a subspace is a **subset of a vector space** that satisfies three conditions:\n",
    "\n",
    "1. **Contains the zero vector:** The zero vector of the vector space must be within the subspace.\n",
    "2. **Closed under addition:** If you add any two vectors from the subspace, the result also stays within the subspace.\n",
    "3. **Closed under scalar multiplication:** If you multiply any vector from the subspace by a scalar (a number), the result remains in the subspace.\n",
    "\n",
    "Think of subspaces as smaller \"worlds\" within the larger vector space that follow the same rules.\n",
    "\n",
    "</div>"
   ]
  },
  {
   "cell_type": "markdown",
   "id": "94e345ad-70e6-414f-8772-e7e37f02c157",
   "metadata": {},
   "source": [
    "\n",
    "**SageMath Examples**\n",
    "\n",
    "Let's use SageMath to illustrate these concepts:\n",
    "\n",
    "**1. Creating Vector Spaces and Subspaces**"
   ]
  },
  {
   "cell_type": "code",
   "execution_count": null,
   "id": "e43f8cf4-a3a0-4f7e-be87-6c41a809efe6",
   "metadata": {},
   "outputs": [],
   "source": [
    "# Create a vector space over the rational numbers (ℚ)\n",
    "V = VectorSpace(QQ, 4) \n",
    "\n",
    "# Define the vectors\n",
    "v1 = V([1, 0, 2, -1])\n",
    "v2 = V([0, 1, -3, 2])\n",
    "\n",
    "# Create a subspace W spanned by the given vectors\n",
    "W = V.subspace([v1, v2])\n",
    "\n",
    "print(W.vector_space())"
   ]
  },
  {
   "cell_type": "markdown",
   "id": "c3e3c133-c640-47bb-b43a-ba8e992aab00",
   "metadata": {},
   "source": [
    "In this example:\n",
    "  * `V` is a 4-dimensional vector space where the components of the vectors are rational numbers.\n",
    "  * `W` is a subspace of `V` defined by the linear combinations of the two given vectors.\n",
    "  * The returned basis matrix is the two vectors!\n",
    "\n",
    "**NOTE**: The basis of a subspace is not always the same as the input vectors used to define the subspace. The basis vectors of a subspace must be linearly independent, and they span the subspace. If the input vectors are linearly independent and span the subspace, they will be a basis. However, if the input vectors are not linearly independent, SageMath will provide a reduced set of vectors that form a basis.\n",
    "\n",
    "We can retrieve the basis directly and test for linearly independence as shown below."
   ]
  },
  {
   "cell_type": "markdown",
   "id": "244cf13d-c0ec-40c9-9b23-9fcc239e9fa7",
   "metadata": {},
   "source": [
    "**2. Finding a Basis for a Subspace**"
   ]
  },
  {
   "cell_type": "code",
   "execution_count": null,
   "id": "b4c8da58-2da3-418b-891c-dbc9a7c81d9c",
   "metadata": {},
   "outputs": [],
   "source": [
    "# Print the basis of the subspace W\n",
    "basis = W.basis()\n",
    "print(\"Basis of the subspace W:\", basis)"
   ]
  },
  {
   "cell_type": "markdown",
   "id": "46edf0b9-19ef-45c0-aa16-d086b86a9cfd",
   "metadata": {},
   "source": [
    "This calculates a set of linearly independent vectors that span the subspace `W`.\n",
    "\n",
    "Next, we can test for dependence with:"
   ]
  },
  {
   "cell_type": "code",
   "execution_count": null,
   "id": "637ffd2e-a1c3-49dd-8f70-f54f9a49405a",
   "metadata": {},
   "outputs": [],
   "source": [
    "dependence = V.linear_dependence([v1, v2])\n",
    "if not dependence:\n",
    "    print(\"The vectors are linearly independent.\")\n",
    "else:\n",
    "    print(\"The vectors are linearly dependent.\")\n",
    "    print(\"Linear dependence relations:\", dependence)"
   ]
  },
  {
   "cell_type": "markdown",
   "id": "7db9f863-595f-4c69-aeee-e2c9dc33e0aa",
   "metadata": {},
   "source": [
    "**3. Checking if a Vector Belongs to a Subspace**"
   ]
  },
  {
   "cell_type": "markdown",
   "id": "917b4fd0-09fb-43ff-ab7f-dd3ea2dc2fd5",
   "metadata": {},
   "source": [
    "First let's try a vector that is a linear combination of the basis"
   ]
  },
  {
   "cell_type": "code",
   "execution_count": null,
   "id": "870f32ac-672b-4280-a326-32442c56fe60",
   "metadata": {},
   "outputs": [],
   "source": [
    "v3 = 2 * basis[0] # 2 * [1,0,2,-1]\n",
    "print(v3)\n",
    "\n",
    "v = vector(QQ, v3)\n",
    "print(v in W)  "
   ]
  },
  {
   "cell_type": "markdown",
   "id": "c5a0457e-0869-4ff0-b775-322c6ca17619",
   "metadata": {},
   "source": [
    "Now try a vector that is not a linear combination of the basis.\n",
    "\n",
    "Here we use `[1, 2, 1, 2]` as it is just the first basis vector with the last element changed from `-1` to `2`.\n",
    "\n",
    "You can see that this vector is not a linear combination of the basis `[(1, 0, 2, -1), (0, 1, -3, 2)]`"
   ]
  },
  {
   "cell_type": "code",
   "execution_count": null,
   "id": "0b5d6db0-c820-4ff4-9668-5eb0615431b3",
   "metadata": {},
   "outputs": [],
   "source": [
    "# Check if a vector is in the subspace\n",
    "v = vector(QQ, [1, 2, 1, 2])\n",
    "print(v in W)  "
   ]
  },
  {
   "cell_type": "markdown",
   "id": "9278e38e-4403-40ed-bfb2-594fb1e8ad0f",
   "metadata": {},
   "source": [
    "In summary, `v in W` checks if `v` is a linear combination of the basis vectors of `W`."
   ]
  },
  {
   "cell_type": "markdown",
   "id": "b16e5d6f-7765-43e3-aa9a-cdcd7801fa4a",
   "metadata": {},
   "source": [
    "**4. Other Operations**\n",
    "\n",
    "SageMath offers many functions for working with subspaces:\n",
    "\n",
    "* `W.dimension()` : Gives the dimension of the subspace.\n",
    "* `W1 + W2` : Calculates the sum of two subspaces.\n",
    "* `W1.intersection(W2)`: Finds the intersection of two subspaces.\n",
    "\n",
    "**Visualizing Subspaces (2D and 3D)**\n",
    "\n",
    "If you're dealing with subspaces in 2D or 3D, you can even visualize them using SageMath's plotting capabilities.\n"
   ]
  },
  {
   "cell_type": "code",
   "execution_count": null,
   "id": "ea33a81d-62cb-4dc7-bec0-3516771ef147",
   "metadata": {},
   "outputs": [],
   "source": [
    "# Create a vector space over the rational numbers (ℚ)\n",
    "V = VectorSpace(QQ, 3)  \n",
    "\n",
    "# Create a subspace spanned by two vectors (converted to rational numbers)\n",
    "P = V.subspace([[1/1, 0/1, 1/1], [0/1, 1/1, -1/1]])\n",
    "\n",
    "# Extract basis vectors of the subspace\n",
    "basis_vectors = P.basis()\n",
    "\n",
    "# Create a parametric plot of the plane\n",
    "var('t','u')\n",
    "plane_plot = parametric_plot3d(\n",
    "    (basis_vectors[0][0]*t + basis_vectors[1][0]*u, \n",
    "     basis_vectors[0][1]*t + basis_vectors[1][1]*u,\n",
    "     basis_vectors[0][2]*t + basis_vectors[1][2]*u), \n",
    "    (t, -1, 1), (u, -1, 1), color='lightblue', opacity=0.8\n",
    ")\n",
    "\n",
    "# Display the plot\n",
    "plane_plot.show(aspect_ratio=[1,1,1])"
   ]
  },
  {
   "cell_type": "markdown",
   "id": "4cbbb574-105c-4cb6-bcfb-02593c11355b",
   "metadata": {},
   "source": [
    "**Why Subspaces Matter**\n",
    "\n",
    "Subspaces are fundamental in linear algebra:\n",
    "\n",
    "* They are used to describe solutions to systems of linear equations.\n",
    "* They are essential in understanding the structure of matrices (e.g., null spaces, column spaces, row spaces).\n",
    "* They play a role in many areas of applied mathematics, physics, and engineering.\n",
    "\n",
    "Let me know if you'd like more examples or want to explore a specific aspect of subspaces in more detail!"
   ]
  },
  {
   "cell_type": "code",
   "execution_count": null,
   "id": "a4e17bf7-d34c-4d52-a028-995e8d3b8b3c",
   "metadata": {},
   "outputs": [],
   "source": []
  },
  {
   "cell_type": "code",
   "execution_count": null,
   "id": "e55e5981-499e-42fa-a1c9-20ef6fc6c81f",
   "metadata": {},
   "outputs": [],
   "source": []
  }
 ],
 "metadata": {
  "kernelspec": {
   "display_name": "SageMath 10.3",
   "language": "sage",
   "name": "sagemath"
  },
  "language_info": {
   "codemirror_mode": {
    "name": "ipython",
    "version": 3
   },
   "file_extension": ".py",
   "mimetype": "text/x-python",
   "name": "python",
   "nbconvert_exporter": "python",
   "pygments_lexer": "ipython3",
   "version": "3.10.12"
  }
 },
 "nbformat": 4,
 "nbformat_minor": 5
}
