{
 "cells": [
  {
   "cell_type": "markdown",
   "id": "855d982a-7c5a-4b42-acc5-5f5dcf7602fb",
   "metadata": {},
   "source": [
    "Null Spaces and Column Spaces: Explain the relationship between the null space (solution set of Ax = 0) and the column space (span of the columns of A). Connect these concepts to the rank of a matrix and the existence/uniqueness of solutions to linear systems."
   ]
  },
  {
   "cell_type": "code",
   "execution_count": null,
   "id": "ba48508f-474a-4242-bbef-e60f8f636c91",
   "metadata": {},
   "outputs": [],
   "source": []
  }
 ],
 "metadata": {
  "kernelspec": {
   "display_name": "SageMath 10.3",
   "language": "sage",
   "name": "sagemath"
  },
  "language_info": {
   "codemirror_mode": {
    "name": "ipython",
    "version": 3
   },
   "file_extension": ".py",
   "mimetype": "text/x-python",
   "name": "python",
   "nbconvert_exporter": "python",
   "pygments_lexer": "ipython3",
   "version": "3.10.12"
  }
 },
 "nbformat": 4,
 "nbformat_minor": 5
}
