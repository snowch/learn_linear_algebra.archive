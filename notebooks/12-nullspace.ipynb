{
 "cells": [
  {
   "cell_type": "markdown",
   "id": "5af56191-93b1-4133-8f99-43b3eee76e8b",
   "metadata": {},
   "source": [
    "### Introduction\n",
    "\n",
    "Let's dive into the concepts of nullspace, column space, and row space using SageMath. We'll break it down into separate sections for clarity, providing both code examples and visualizations.\n",
    "\n",
    "### Nullspace"
   ]
  },
  {
   "cell_type": "markdown",
   "id": "38e03795-162c-476d-99ee-799d47dfde33",
   "metadata": {},
   "source": [
    "<div style=\"background-color:yellow; padding: 5px 10px 0px 10px; border: 1px solid black;\">\n",
    "\n",
    "Definitions: **nullspace**\n",
    "\n",
    "* **Concept:** The nullspace of a matrix $A$ is the set of all vectors $x$ that satisfy the equation $Ax = 0$. These vectors, when multiplied by the matrix, \"get sent to\" the zero vector.\n",
    "* **Significance:** The nullspace reveals the linear dependencies among the columns of the matrix. Its dimension (called the nullity) tells us how many \"free variables\" exist in the solutions to a linear system.\n",
    "\n",
    "</div>"
   ]
  },
  {
   "cell_type": "markdown",
   "id": "b748ff53-bee3-4c0a-be68-94a990c0031d",
   "metadata": {},
   "source": [
    "**SageMath Example**\n",
    "\n",
    "Let's consider the following *homogeneous system*:\n",
    "\n",
    "```\n",
    "2x + 3y - z = 0\n",
    "x - 4y + 2z = 0\n",
    "```\n",
    "\n",
    "In SageMath, we represent this as a matrix equation: `Ax = 0` where `A` is the coefficient matrix, `x` is the vector of variables, and `0` is the zero vector."
   ]
  },
  {
   "cell_type": "code",
   "execution_count": 1,
   "id": "c6575381-365b-4be3-84db-e681b56f0eab",
   "metadata": {},
   "outputs": [
    {
     "data": {
      "text/html": [
       "<html>\\(\\displaystyle \\left(\\begin{array}{rrr}\n",
       "2 & 3 & -1 \\\\\n",
       "1 & -4 & 2\n",
       "\\end{array}\\right)\\)</html>"
      ],
      "text/latex": [
       "$\\displaystyle \\left(\\begin{array}{rrr}\n",
       "2 & 3 & -1 \\\\\n",
       "1 & -4 & 2\n",
       "\\end{array}\\right)$"
      ],
      "text/plain": [
       "[ 2  3 -1]\n",
       "[ 1 -4  2]"
      ]
     },
     "metadata": {},
     "output_type": "display_data"
    }
   ],
   "source": [
    "A = matrix([[2, 3, -1], [1, -4, 2]])\n",
    "show(A)"
   ]
  },
  {
   "cell_type": "code",
   "execution_count": 2,
   "id": "8fe1b34d-a84d-4c13-86ed-bed4ce567ecd",
   "metadata": {},
   "outputs": [
    {
     "name": "stdout",
     "output_type": "stream",
     "text": [
      "Free module of degree 3 and rank 1 over Integer Ring\n",
      "Echelon basis matrix:\n",
      "[  2  -5 -11]\n"
     ]
    }
   ],
   "source": [
    "nullspace = A.right_kernel()  # Find the right kernel (nullspace)\n",
    "print(nullspace)"
   ]
  },
  {
   "cell_type": "markdown",
   "id": "f34e6428-20df-4a5b-b545-deb449d24b55",
   "metadata": {},
   "source": [
    "**Interpretation**\n",
    "\n",
    "The output `[2, -5, 11]` tells us that any scalar multiple of this vector is a solution to our *homogeneous system*.\n",
    "\n",
    "For example:\n",
    "\n",
    "* `[2, -5, 11]` is a solution\n",
    "* `[4, -10, 22]` is a solution\n",
    "* `[-2, 5, -11]` is a solution\n",
    "\n",
    "...and so on."
   ]
  },
  {
   "cell_type": "markdown",
   "id": "af0e076f-79ae-4e3f-afc8-a6feaabdf0cd",
   "metadata": {},
   "source": [
    "**Visualization:**"
   ]
  },
  {
   "cell_type": "code",
   "execution_count": null,
   "id": "e8d1f9f5-15fb-4613-ae85-c84cefb5ada4",
   "metadata": {},
   "outputs": [],
   "source": [
    " "
   ]
  },
  {
   "cell_type": "markdown",
   "id": "0d51e8ae-daa5-4f61-91f8-08767f4b2c59",
   "metadata": {},
   "source": [
    "### Column Space"
   ]
  },
  {
   "cell_type": "markdown",
   "id": "e7c3d646-8e20-4db3-948b-53c02f0a0116",
   "metadata": {},
   "source": [
    "<div style=\"background-color:yellow; padding: 5px 10px 0px 10px; border: 1px solid black;\">\n",
    "\n",
    "Definitions: **column space**\n",
    "\n",
    "* **Concept:** The column space of a matrix `A` is the span of its column vectors. It's the set of all possible linear combinations you can create using those columns.\n",
    "* **Significance:** The column space tells us what vectors the matrix can \"reach\" through multiplication. Its dimension (called the rank) is the number of linearly independent columns in the matrix.\n",
    "\n",
    "</div>"
   ]
  },
  {
   "cell_type": "markdown",
   "id": "fd5c818f-2a0d-4379-b076-97f79be630a2",
   "metadata": {},
   "source": [
    "**Code Example:**"
   ]
  },
  {
   "cell_type": "code",
   "execution_count": null,
   "id": "d447f2e6-5412-493e-a88a-0fcb110be909",
   "metadata": {},
   "outputs": [],
   "source": [
    "C = A.column_space() \n",
    "print(\"Basis for the column space of A:\")\n",
    "print(C.basis()) "
   ]
  },
  {
   "cell_type": "markdown",
   "id": "b2adc910-7dc0-46ef-a8f9-a96f86585df8",
   "metadata": {},
   "source": [
    "**Visualization:**"
   ]
  },
  {
   "cell_type": "code",
   "execution_count": null,
   "id": "140de801-2d18-4925-a988-1afce49678e1",
   "metadata": {},
   "outputs": [],
   "source": [
    "from mpl_toolkits.mplot3d import Axes3D\n",
    "\n",
    "# Get basis vectors from column space\n",
    "basis_vectors = C.basis()\n",
    "\n",
    "fig = plt.figure()\n",
    "ax = fig.add_subplot(111, projection='3d')\n",
    "\n",
    "# Plot each basis vector as an arrow\n",
    "for v in basis_vectors:\n",
    "    ax.quiver(0, 0, 0, v[0], v[1], v[2], color='red')\n",
    "\n",
    "# Set plot limits for better visualization\n",
    "ax.set_xlim([-1, 1])\n",
    "ax.set_ylim([-1, 1])\n",
    "ax.set_zlim([-1, 1])\n",
    "    \n",
    "ax.set_xlabel('X')\n",
    "ax.set_ylabel('Y')\n",
    "ax.set_zlabel('Z')\n",
    "\n",
    "plt.title('Column Space Basis Vectors')\n",
    "plt.show()"
   ]
  },
  {
   "cell_type": "markdown",
   "id": "9851a32d-570d-47d7-aa06-522971675fcf",
   "metadata": {},
   "source": [
    "This code visualizes the basis vectors of the column space as red arrows in 3D space. These arrows represent the fundamental directions you can \"reach\" by taking linear combinations of the original matrix columns."
   ]
  },
  {
   "cell_type": "markdown",
   "id": "2c862b31-34c4-4596-8c85-c721b5093e6b",
   "metadata": {},
   "source": [
    "### Row Space"
   ]
  },
  {
   "cell_type": "markdown",
   "id": "1f279aac-d133-4a85-b682-e0dc62175ab0",
   "metadata": {},
   "source": [
    "<div style=\"background-color:yellow; padding: 5px 10px 0px 10px; border: 1px solid black;\">\n",
    "\n",
    "Definitions: **Row Space**\n",
    "\n",
    "* **Concept:** The row space of a matrix `A` is the span of its row vectors. It's analogous to the column space but focuses on the rows.\n",
    "* **Significance:**  The row space can be thought of as the column space of the matrix's transpose. It's closely related to the nullspace through orthogonal complements.\n",
    "\n",
    "</div>"
   ]
  },
  {
   "cell_type": "markdown",
   "id": "829572b8-c242-4fb1-a7b0-07f3a96089bf",
   "metadata": {},
   "source": [
    "**Code Example:**"
   ]
  },
  {
   "cell_type": "code",
   "execution_count": null,
   "id": "402d56f8-a1fd-48a5-be49-0559bbe2c075",
   "metadata": {},
   "outputs": [],
   "source": [
    "R = A.row_space() \n",
    "print(\"Basis for the row space of A:\")\n",
    "print(R.basis())"
   ]
  },
  {
   "cell_type": "markdown",
   "id": "e1c2cfa8-d4bb-48e9-a949-8267f62ff77e",
   "metadata": {},
   "source": [
    "**Visualization:**  The visualization would be similar to the column space visualization, but the arrows would represent the basis vectors for the row space."
   ]
  }
 ],
 "metadata": {
  "kernelspec": {
   "display_name": "SageMath 10.3",
   "language": "sage",
   "name": "sagemath"
  },
  "language_info": {
   "codemirror_mode": {
    "name": "ipython",
    "version": 3
   },
   "file_extension": ".py",
   "mimetype": "text/x-python",
   "name": "python",
   "nbconvert_exporter": "python",
   "pygments_lexer": "ipython3",
   "version": "3.10.12"
  }
 },
 "nbformat": 4,
 "nbformat_minor": 5
}
