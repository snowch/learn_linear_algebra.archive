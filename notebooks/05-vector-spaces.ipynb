{
 "cells": [
  {
   "cell_type": "markdown",
   "id": "81f4b59e-2c89-4777-91b1-ff28c41064be",
   "metadata": {},
   "source": [
    "### Basic Introduction to Vector Spaces"
   ]
  },
  {
   "cell_type": "markdown",
   "id": "2d678ffb-60b4-46d3-8b10-6132cfe29928",
   "metadata": {},
   "source": [
    "\n",
    "<div style=\"background-color:yellow; padding: 5px 10px 0px 10px; border: 1px solid black;\">\n",
    "    \n",
    "**Definition**\n",
    "    \n",
    "In mathematics, a **vector space** is a structure made up of a set of objects, known as vectors, that can be added together and scaled by numbers called scalars. These vectors and scalars must satisfy certain properties, including associativity, commutativity, and the existence of an additive identity and additive inverses.\n",
    "\n",
    "In simpler terms, a vector space provides a framework for manipulating and studying collections of objects that can be combined and stretched without losing their essential properties.\n",
    "</div>"
   ]
  },
  {
   "cell_type": "markdown",
   "id": "e42530df-48e1-4172-825d-d4daaa9f8cda",
   "metadata": {},
   "source": [
    "In SageMath, we can work with vector spaces to perform operations on vectors in a structured and consistent manner."
   ]
  },
  {
   "cell_type": "code",
   "execution_count": 1,
   "id": "b05c6338-8fd7-4010-862d-0e74636337b4",
   "metadata": {},
   "outputs": [],
   "source": [
    "# Define a vector space over the rational numbers of dimension 3\n",
    "V = VectorSpace(QQ, 3)\n",
    "\n",
    "# Define two vectors in the vector space\n",
    "v = V([1, 2, 3])  # Define a vector [1, 2, 3]\n",
    "w = V([4, 5, 6])  # Define another vector [4, 5, 6]\n",
    "\n",
    "# Vector addition\n",
    "u = v + w"
   ]
  },
  {
   "cell_type": "markdown",
   "id": "d466abdd-abea-4fff-839a-d7a121ba2b76",
   "metadata": {},
   "source": [
    "Try changing the VectorSpace dimension to 2 and see what happens."
   ]
  },
  {
   "cell_type": "markdown",
   "id": "4612f63b-ce5f-42b3-a91f-1c5ee082cfbc",
   "metadata": {},
   "source": [
    "Here's how the vector space concept helps us in this example:\n",
    "\n",
    "1. **Rigorous Definition**: By defining `V` as a vector space over the rational numbers (`QQ`) of dimension 3, we establish a clear mathematical structure for our vectors. This ensures that operations like addition and scalar multiplication adhere to the properties of vector spaces.\n",
    "\n",
    "2. **Consistent Operations**: When we perform vector addition `u = v + w`, SageMath ensures that the addition is carried out element-wise, respecting the rules of vector addition defined in the vector space. This guarantees consistency and correctness in our computations.\n",
    "\n",
    "3. **Type Safety**: By encapsulating vectors within the vector space `V`, we ensure type safety. That is, `v` and `w` are recognized as elements of the vector space `V`, preventing unintended operations or errors that may arise from mixing vectors from different spaces.\n",
    "\n",
    "4. **Abstraction**: We can perform vector operations without needing to worry about the specific underlying representation of vectors. This abstraction allows us to work with vectors in a general and flexible manner, facilitating code reuse and scalability.\n",
    "\n",
    "5. **Scalability**: Vector spaces in SageMath can handle vectors of arbitrary dimension and over various fields (e.g., real numbers, rational numbers). This scalability enables us to work with vectors in high-dimensional spaces and in different mathematical contexts with ease.\n",
    "\n",
    "In summary, leveraging the vector space concept in SageMath provides a solid foundation for performing vector operations, ensuring correctness, consistency, and abstraction in our computations."
   ]
  },
  {
   "cell_type": "markdown",
   "id": "8fa5289c-011b-456e-9014-a90a13995b81",
   "metadata": {},
   "source": [
    "### Is a Vector in the VectorSpace?"
   ]
  },
  {
   "cell_type": "code",
   "execution_count": 2,
   "id": "c8d7d011-26e7-4c38-9aed-71c1d72119f9",
   "metadata": {},
   "outputs": [
    {
     "data": {
      "text/plain": [
       "True"
      ]
     },
     "execution_count": 2,
     "metadata": {},
     "output_type": "execute_result"
    }
   ],
   "source": [
    "V = VectorSpace(QQ, 3)\n",
    "v = vector(RR, [1,2,3])\n",
    "v in V"
   ]
  },
  {
   "cell_type": "markdown",
   "id": "55538581-880c-4b93-9680-c8323d885350",
   "metadata": {},
   "source": [
    "In the above example, `v in V` evaluates to `True` because although `v` is defined over the real numbers (`RR`), it is considered a valid member of the vector space `V`, which is defined over the rational numbers (`QQ`). SageMath handles this type conversion implicitly when checking for membership."
   ]
  },
  {
   "cell_type": "code",
   "execution_count": 3,
   "id": "56d9c0c0-92aa-4e8c-9373-42b74aff17ec",
   "metadata": {},
   "outputs": [
    {
     "data": {
      "text/plain": [
       "False"
      ]
     },
     "execution_count": 3,
     "metadata": {},
     "output_type": "execute_result"
    }
   ],
   "source": [
    "V = VectorSpace(QQ, 3)\n",
    "v = vector(CC, [1,2,3])\n",
    "v in V"
   ]
  },
  {
   "cell_type": "markdown",
   "id": "a2f2a68f-bf21-4508-94ba-950ab8ca2faa",
   "metadata": {},
   "source": [
    "In the above example, `v in V` evaluates to `False` because `v` is defined over a different field (complex numbers) than the one specified for the vector space `V` (rational numbers)."
   ]
  },
  {
   "cell_type": "code",
   "execution_count": 4,
   "id": "326fa69c-8e73-44a0-a2a6-a193498b2516",
   "metadata": {},
   "outputs": [
    {
     "data": {
      "text/plain": [
       "False"
      ]
     },
     "execution_count": 4,
     "metadata": {},
     "output_type": "execute_result"
    }
   ],
   "source": [
    "V = VectorSpace(QQ, 3)\n",
    "v = vector(QQ, [1,2,3,4])\n",
    "v in V"
   ]
  },
  {
   "cell_type": "markdown",
   "id": "27f209c9-776c-4698-940f-aa7394ceeba2",
   "metadata": {},
   "source": [
    "In the above example, `v in V` evaluates to `False` because the dimension of `v` is different from the dimension specified for the vector space `V`."
   ]
  },
  {
   "cell_type": "code",
   "execution_count": null,
   "id": "8a8f9244-0251-4ab2-95f1-1b5f6861ce01",
   "metadata": {},
   "outputs": [],
   "source": []
  }
 ],
 "metadata": {
  "kernelspec": {
   "display_name": "SageMath 10.3",
   "language": "sage",
   "name": "sagemath"
  },
  "language_info": {
   "codemirror_mode": {
    "name": "ipython",
    "version": 3
   },
   "file_extension": ".py",
   "mimetype": "text/x-python",
   "name": "python",
   "nbconvert_exporter": "python",
   "pygments_lexer": "ipython3",
   "version": "3.10.12"
  }
 },
 "nbformat": 4,
 "nbformat_minor": 5
}
