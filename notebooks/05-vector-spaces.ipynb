{
 "cells": [
  {
   "cell_type": "markdown",
   "id": "81f4b59e-2c89-4777-91b1-ff28c41064be",
   "metadata": {},
   "source": [
    "### Basic Introduction to Vector Spaces"
   ]
  },
  {
   "cell_type": "markdown",
   "id": "2d678ffb-60b4-46d3-8b10-6132cfe29928",
   "metadata": {},
   "source": [
    "\n",
    "<div style=\"background-color:yellow; padding: 5px 10px 0px 10px; border: 1px solid black;\">\n",
    "    \n",
    "**Definition**\n",
    "    \n",
    "In mathematics, a **vector space** is a structure made up of a set of objects, known as vectors, that can be added together and scaled by numbers called scalars. These vectors and scalars must satisfy certain properties, including associativity, commutativity, and the existence of an additive identity and additive inverses.\n",
    "\n",
    "In simpler terms, a vector space provides a framework for manipulating and studying collections of objects that can be combined and stretched without losing their essential properties.\n",
    "</div>"
   ]
  },
  {
   "cell_type": "markdown",
   "id": "e42530df-48e1-4172-825d-d4daaa9f8cda",
   "metadata": {},
   "source": [
    "In SageMath, we can work with vector spaces to perform operations on vectors in a structured and consistent manner."
   ]
  },
  {
   "cell_type": "code",
   "execution_count": 5,
   "id": "b05c6338-8fd7-4010-862d-0e74636337b4",
   "metadata": {},
   "outputs": [],
   "source": [
    "# Define a vector space over the rational numbers of dimension 3\n",
    "V = VectorSpace(QQ, 3)\n",
    "\n",
    "# Define two vectors in the vector space\n",
    "v = V([1, 2, 3])  # Define a vector [1, 2, 3]\n",
    "w = V([4, 5, 6])  # Define another vector [4, 5, 6]\n",
    "\n",
    "# Vector addition\n",
    "u = v + w"
   ]
  },
  {
   "cell_type": "markdown",
   "id": "d466abdd-abea-4fff-839a-d7a121ba2b76",
   "metadata": {},
   "source": [
    "Try changing the VectorSpace dimension to 2 and see what happens."
   ]
  },
  {
   "cell_type": "code",
   "execution_count": null,
   "id": "446b6616-cf61-41f3-9dea-6bf5b1da511d",
   "metadata": {},
   "outputs": [],
   "source": []
  }
 ],
 "metadata": {
  "kernelspec": {
   "display_name": "SageMath 10.3",
   "language": "sage",
   "name": "sagemath"
  },
  "language_info": {
   "codemirror_mode": {
    "name": "ipython",
    "version": 3
   },
   "file_extension": ".py",
   "mimetype": "text/x-python",
   "name": "python",
   "nbconvert_exporter": "python",
   "pygments_lexer": "ipython3",
   "version": "3.10.12"
  }
 },
 "nbformat": 4,
 "nbformat_minor": 5
}
