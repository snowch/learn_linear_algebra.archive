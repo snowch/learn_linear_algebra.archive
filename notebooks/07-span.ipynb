{
 "cells": [
  {
   "cell_type": "markdown",
   "id": "39d471b6-9481-467a-b66e-6ab1927297fa",
   "metadata": {},
   "source": [
    "Let's dive into the concept of span in linear algebra, illustrated with SageMath examples.\n",
    "\n",
    "**What is Span?**\n",
    "\n",
    "In simple terms, the span of a set of vectors is the collection of **all** possible linear combinations you can form using those vectors. A linear combination is just a fancy way of saying you're adding scalar multiples of your vectors together.\n",
    "\n",
    "**Why Span Matters**\n",
    "\n",
    "The span tells you what space your vectors \"fill up.\" If your vectors span a line, they're confined to that line. If they span a plane, they can reach any point on that plane.  This is fundamental in understanding vector spaces and solving systems of equations.\n",
    "\n",
    "**SageMath Examples**\n",
    "\n",
    "Let's use SageMath, a powerful tool for mathematical computations, to visualize and work with spans.\n",
    "\n",
    "**Example 1: Span of a Single Vector**"
   ]
  },
  {
   "cell_type": "code",
   "execution_count": 1,
   "id": "e768c248-5ed5-4e0e-ab8a-82cd37f85e4e",
   "metadata": {},
   "outputs": [
    {
     "name": "stdout",
     "output_type": "stream",
     "text": [
      "Vector space of degree 2 and dimension 1 over Rational Field\n",
      "Basis matrix:\n",
      "[1 2]\n"
     ]
    }
   ],
   "source": [
    "V = VectorSpace(QQ, 2)  # 2D vector space over rational numbers\n",
    "v = V([1, 2])  # Our vector is (1, 2)\n",
    "\n",
    "span_v = V.span([v])  # Calculate the span of v\n",
    "print(span_v)"
   ]
  },
  {
   "cell_type": "markdown",
   "id": "7b2704b4-611c-4b04-a08e-9db8ba71fd0e",
   "metadata": {},
   "source": [
    "\n",
    "This tells us the span of `v` is a one-dimensional subspace (a line) in our 2D space.\n",
    "\n",
    "**Example 2: Span of Two Vectors**\n"
   ]
  },
  {
   "cell_type": "code",
   "execution_count": 2,
   "id": "cd7c98e9-712b-4614-b5a1-84a116c5eeb5",
   "metadata": {},
   "outputs": [
    {
     "name": "stdout",
     "output_type": "stream",
     "text": [
      "Vector space of degree 3 and dimension 2 over Rational Field\n",
      "Basis matrix:\n",
      "[ 1  0 -1]\n",
      "[ 0  1  2]\n"
     ]
    }
   ],
   "source": [
    "V = VectorSpace(QQ, 3)  # 3D vector space over rational numbers\n",
    "v1 = V([1, 0, -1])\n",
    "v2 = V([0, 1, 2])\n",
    "\n",
    "span_v1_v2 = V.span([v1, v2])  # Calculate the span of v1 and v2\n",
    "print(span_v1_v2)"
   ]
  },
  {
   "cell_type": "markdown",
   "id": "5a0793de-d73c-4503-9344-88bbe8246156",
   "metadata": {},
   "source": [
    "Here, the span of `v1` and `v2` is a two-dimensional subspace (a plane) in our 3D space.\n",
    "\n",
    "**Example 3: Checking if a Vector is in the Span**"
   ]
  },
  {
   "cell_type": "code",
   "execution_count": 3,
   "id": "a2e660e8-dcfe-49d7-80be-2c5763c62b04",
   "metadata": {},
   "outputs": [
    {
     "name": "stdout",
     "output_type": "stream",
     "text": [
      "True\n"
     ]
    }
   ],
   "source": [
    "V = VectorSpace(QQ, 3)\n",
    "v1 = V([1, 0, -1])\n",
    "v2 = V([0, 1, 2])\n",
    "u = V([2, 3, 4])\n",
    "\n",
    "span_v1_v2 = V.span([v1, v2])\n",
    "print(u in span_v1_v2)  # Check if u is in the span"
   ]
  },
  {
   "cell_type": "markdown",
   "id": "cfa85748-5611-45f7-8ac3-0b77c8b0e576",
   "metadata": {},
   "source": [
    "\n",
    "The output `True` indicates that the vector `u` is within the span of `v1` and `v2`.  To find the actual coefficients, you could solve a system of equations.\n",
    "\n",
    "\n",
    "**Key Points**\n",
    "\n",
    "* **Geometric Interpretation:** Spans have clear geometric interpretations. The span of one vector is a line, the span of two (non-parallel) vectors is a plane, and so on.\n",
    "* **Linear Independence:** If your vectors are linearly independent, they span the highest possible dimensional subspace. Otherwise, they span a smaller subspace.\n",
    "* **SageMath:** SageMath makes calculating and visualizing spans straightforward. \n",
    "\n",
    "Let me know if you'd like more examples or want to explore specific scenarios!"
   ]
  },
  {
   "cell_type": "code",
   "execution_count": null,
   "id": "0e19e598-e6b8-476d-9da1-80bf804ba8b2",
   "metadata": {},
   "outputs": [],
   "source": []
  }
 ],
 "metadata": {
  "kernelspec": {
   "display_name": "SageMath 10.3",
   "language": "sage",
   "name": "sagemath"
  },
  "language_info": {
   "codemirror_mode": {
    "name": "ipython",
    "version": 3
   },
   "file_extension": ".py",
   "mimetype": "text/x-python",
   "name": "python",
   "nbconvert_exporter": "python",
   "pygments_lexer": "ipython3",
   "version": "3.10.12"
  }
 },
 "nbformat": 4,
 "nbformat_minor": 5
}
