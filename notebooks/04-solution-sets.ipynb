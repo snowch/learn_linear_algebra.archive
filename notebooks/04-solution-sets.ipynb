{
 "cells": [
  {
   "cell_type": "markdown",
   "id": "d53cf3db-efdb-46d9-afc5-350d447aa2b9",
   "metadata": {},
   "source": [
    "### Introduction\n",
    "\n",
    "In linear algebra, a **solution set** is the collection of all possible values for variables that satisfy a system of linear equations. It can be a single point, representing a unique solution; a line, plane, or higher-dimensional space, indicating infinitely many solutions; or empty, meaning no solutions exist. Solution sets help understand the relationships between equations and characterize the properties of linear systems. It's called a \"set\" because it contains all valid solutions for a linear system.\n"
   ]
  },
  {
   "cell_type": "markdown",
   "id": "6039873b-ad1e-4f5f-93b3-94abb407b248",
   "metadata": {},
   "source": [
    "Let's begin with our augmented RREF matrix from the previous section:\n",
    "\n",
    "$$\n",
    "\\displaystyle \\left(\\begin{array}{rrr|r}\n",
    "1 & 0 & 0 & \\frac{8}{9} \\\\\n",
    "0 & 1 & 0 & \\frac{7}{3} \\\\\n",
    "0 & 0 & 1 & \\frac{14}{9}\n",
    "\\end{array}\\right)\n",
    "$$\n",
    "\n",
    "<div style=\"background-color:yellow; padding: 5px 10px 0px 10px; border: 1px solid black;\">\n",
    "Definitions:\n",
    "    \n",
    "- **Coefficients**: the columns to the left of the vertical bar\n",
    "- **Constants**: the column to the right of the vertical bar\n",
    "- **Pivots**:  a pivot element is a nonzero element that is the first nonzero entry in its row when using the Gaussian elimination method to convert the matrix into row echelon form or reduced row echelon form\n",
    "  \n",
    "</div>\n",
    "\n",
    "<br/>\n",
    "\n",
    "In the above example, we have a pivot in each **coefficient** column."
   ]
  },
  {
   "cell_type": "markdown",
   "id": "4d5f98a2-5e1c-4d84-ad17-cd69e8904dc2",
   "metadata": {},
   "source": [
    "SageMath has a method `pivots()` to return the pivot locations for a matrix:"
   ]
  },
  {
   "cell_type": "code",
   "execution_count": 1,
   "id": "ab6f8dda-4808-444a-975e-0dc0ac412261",
   "metadata": {},
   "outputs": [
    {
     "data": {
      "text/plain": [
       "(0, 1, 2)"
      ]
     },
     "execution_count": 1,
     "metadata": {},
     "output_type": "execute_result"
    }
   ],
   "source": [
    "A = Matrix([[1, 0, 0, 8/9],\n",
    "            [0, 1, 0, 7/3],\n",
    "            [0, 0, 1, 14/9]])\n",
    "\n",
    "A.pivots()"
   ]
  },
  {
   "cell_type": "markdown",
   "id": "7362fa41-1e42-4096-8238-7b45c9847f10",
   "metadata": {},
   "source": [
    "### Determining how many solutions exist"
   ]
  },
  {
   "cell_type": "markdown",
   "id": "7483159b-a801-4bdc-a327-888ba5428cab",
   "metadata": {},
   "source": [
    "The following RREF's show the three types of solutions that are possible:"
   ]
  },
  {
   "cell_type": "markdown",
   "id": "5194f2af-8945-41f8-be1b-99ab439b0b3d",
   "metadata": {},
   "source": [
    "<div style=\"display: flex;\">\n",
    "<div style=\"flex: 1;\">\n",
    "$$\n",
    "\\left(\\begin{array}{rr|r}\n",
    "1 & 0 & \\frac{-2}{7} \\\\\n",
    "0 & 1 & \\frac{4}{7} \\\\\n",
    "\\end{array}\\right)\n",
    "$$\n",
    "Unique Solution\n",
    "</div>\n",
    "<div style=\"margin-left: 20px; flex: 1;\">\n",
    "$$\n",
    "\\left(\\begin{array}{rr|r}\n",
    "1 & 0 & 2 \\\\\n",
    "0 & 1 & 3 \\\\\n",
    "0 & 0 & 0 \\\\\n",
    "\\end{array}\\right)\n",
    "$$\n",
    "Infinite Solutions\n",
    "</div>\n",
    "<div style=\"margin-left: 20px; flex: 1;\">\n",
    "$$\n",
    "\\left(\\begin{array}{rr|r}\n",
    "1 & 0 & 2 \\\\\n",
    "0 & 1 & 3 \\\\\n",
    "0 & 0 & 1 \\\\\n",
    "\\end{array}\\right)\n",
    "$$\n",
    "No solutions\n",
    "</div>\n",
    "</div>\n"
   ]
  },
  {
   "cell_type": "markdown",
   "id": "6904d45e-12fd-45ff-8a48-450021b667a7",
   "metadata": {},
   "source": [
    "<div style=\"background-color:yellow; padding: 5px 10px 0px 10px; border: 1px solid black;\">\n",
    "Definitions:\n",
    "    \n",
    "- **Unique Solution**:  a unique solution has a pivot in all **coefficient columns**\n",
    "- **Infinite Solutions**: infinite solutions have a **row with no pivots**\n",
    "- **No Solution**: there are no solutions if the pivot is in the **constant column**\n",
    "\n",
    "</div>"
   ]
  },
  {
   "cell_type": "markdown",
   "id": "26fdb648-2275-4755-a1a6-e09b379a93fa",
   "metadata": {},
   "source": [
    "Let's elaborate on each of these"
   ]
  },
  {
   "cell_type": "markdown",
   "id": "e50977b4-a31c-4897-9d43-63df4c3dc8dc",
   "metadata": {},
   "source": [
    "### Unique Solution"
   ]
  },
  {
   "cell_type": "code",
   "execution_count": 2,
   "id": "c7eadba8-5813-4719-9149-1dc3e1982537",
   "metadata": {},
   "outputs": [
    {
     "data": {
      "text/html": [
       "<html>\\(\\displaystyle \\left(\\begin{array}{rr|r}\n",
       "3 & -2 & -2 \\\\\n",
       "1 & 4 & 2\n",
       "\\end{array}\\right)\\)</html>"
      ],
      "text/latex": [
       "$\\displaystyle \\left(\\begin{array}{rr|r}\n",
       "3 & -2 & -2 \\\\\n",
       "1 & 4 & 2\n",
       "\\end{array}\\right)$"
      ],
      "text/plain": [
       "[ 3 -2|-2]\n",
       "[ 1  4| 2]"
      ]
     },
     "metadata": {},
     "output_type": "display_data"
    }
   ],
   "source": [
    "A = Matrix([[3, -2],[1, 4]])\n",
    "b = vector([-2,2])\n",
    "\n",
    "A_aug = A.augment(b, subdivide=True)\n",
    "show(A_aug)"
   ]
  },
  {
   "cell_type": "code",
   "execution_count": 3,
   "id": "0372bc19-1420-452d-9efc-ed719bdd62e5",
   "metadata": {},
   "outputs": [
    {
     "data": {
      "text/html": [
       "<html>\\(\\displaystyle \\left(\\begin{array}{rr|r}\n",
       "1 & 0 & -\\frac{2}{7} \\\\\n",
       "0 & 1 & \\frac{4}{7}\n",
       "\\end{array}\\right)\\)</html>"
      ],
      "text/latex": [
       "$\\displaystyle \\left(\\begin{array}{rr|r}\n",
       "1 & 0 & -\\frac{2}{7} \\\\\n",
       "0 & 1 & \\frac{4}{7}\n",
       "\\end{array}\\right)$"
      ],
      "text/plain": [
       "[   1    0|-2/7]\n",
       "[   0    1| 4/7]"
      ]
     },
     "metadata": {},
     "output_type": "display_data"
    }
   ],
   "source": [
    "A_rref = A_aug.rref()\n",
    "show(A_rref)"
   ]
  },
  {
   "cell_type": "code",
   "execution_count": 4,
   "id": "50059f6b-7dde-4e07-b06b-2bce53f98bee",
   "metadata": {},
   "outputs": [
    {
     "data": {
      "text/plain": [
       "(0, 1)"
      ]
     },
     "execution_count": 4,
     "metadata": {},
     "output_type": "execute_result"
    }
   ],
   "source": [
    "A_rref.pivots()"
   ]
  },
  {
   "cell_type": "markdown",
   "id": "41752e26-aded-49e8-83b6-0e6b5671debc",
   "metadata": {},
   "source": [
    "We have a pivot in each coefficient column so this is a unique solution.\n",
    "\n",
    "Let's verify there is only one solution, using `solve_right()`."
   ]
  },
  {
   "cell_type": "code",
   "execution_count": 5,
   "id": "98b7a706-cbe6-4e23-9601-597d202bc393",
   "metadata": {
    "scrolled": true
   },
   "outputs": [
    {
     "data": {
      "text/plain": [
       "(-2/7, 4/7)"
      ]
     },
     "execution_count": 5,
     "metadata": {},
     "output_type": "execute_result"
    }
   ],
   "source": [
    "A.solve_right(b) # note we are using the A matrix, not the augmented matrix A_aug"
   ]
  },
  {
   "cell_type": "markdown",
   "id": "ac6e28ad-ddff-4900-8793-cdaebbfcd137",
   "metadata": {},
   "source": [
    "The solution to this linear system is:\n",
    "\n",
    "- $x = -2/7$\n",
    "- $y = 4/7$"
   ]
  },
  {
   "cell_type": "code",
   "execution_count": 6,
   "id": "284da176-c057-4d03-ba59-fc606fbcb7e8",
   "metadata": {},
   "outputs": [
    {
     "data": {
      "image/png": "[encoded data removed]",
      "text/plain": [
       "Graphics object consisting of 2 graphics primitives"
      ]
     },
     "metadata": {},
     "output_type": "display_data"
    }
   ],
   "source": [
    "var('x y')\n",
    "\n",
    "equation1 = 3*x - 2*y == -2\n",
    "equation2 = x + 4*y == 2\n",
    "\n",
    "# Create the plots using implicit_plot\n",
    "plot1 = implicit_plot(equation1, (x, -5, 5), (y, -5, 5), color='red', gridlines='faint')\n",
    "plot2 = implicit_plot(equation2, (x, -5, 5), (y, -5, 5), color='blue', gridlines='faint')\n",
    "\n",
    "# Combine plots and show with intersection point\n",
    "(plot1 + plot2).show(title='Linear System Plot', figsize=4)"
   ]
  },
  {
   "cell_type": "markdown",
   "id": "60481d71-22bc-4cc0-8cf1-2e24a8275929",
   "metadata": {},
   "source": [
    "Here we can visually see that the lines meet at exactly one point $x = -2/7, y = 4/7$ and is therefore a unique solution."
   ]
  },
  {
   "cell_type": "markdown",
   "id": "c49f50bc-e65e-45b5-8a7b-797b6746a535",
   "metadata": {},
   "source": [
    "### Infinite Solutions"
   ]
  },
  {
   "cell_type": "markdown",
   "id": "41572174-2ce1-4092-a359-4e4598fd750a",
   "metadata": {},
   "source": [
    "Let's start with this linear system.\n",
    "\n",
    "$$\n",
    "3x + 2y = 7 \\\\\n",
    "6x + 4y = 14\n",
    "$$\n",
    "\n",
    "In this system, if you divide the second equation by 2, you get the first equation. However, the second equation is not a multiple of the first. These equations represent parallel lines with the same slope but different y-intercepts. Since they never intersect, they have infinitely many solutions, meaning any point on one of the lines satisfies both equations."
   ]
  },
  {
   "cell_type": "code",
   "execution_count": 7,
   "id": "c7f6b1fa-1f20-4318-a4b0-507a07713ceb",
   "metadata": {},
   "outputs": [
    {
     "data": {
      "text/html": [
       "<html>\\(\\displaystyle \\left(\\begin{array}{rr|r}\n",
       "3 & 2 & 7 \\\\\n",
       "6 & 4 & 14\n",
       "\\end{array}\\right)\\)</html>"
      ],
      "text/latex": [
       "$\\displaystyle \\left(\\begin{array}{rr|r}\n",
       "3 & 2 & 7 \\\\\n",
       "6 & 4 & 14\n",
       "\\end{array}\\right)$"
      ],
      "text/plain": [
       "[ 3  2| 7]\n",
       "[ 6  4|14]"
      ]
     },
     "metadata": {},
     "output_type": "display_data"
    }
   ],
   "source": [
    "A = Matrix([[3, 2],[6, 4]])\n",
    "b = vector([7, 14])\n",
    "\n",
    "A_aug = A.augment(b, subdivide=True)\n",
    "show(A_aug)"
   ]
  },
  {
   "cell_type": "code",
   "execution_count": 8,
   "id": "bdd9302c-6ce4-445d-93b8-ddde56bcaa67",
   "metadata": {},
   "outputs": [
    {
     "data": {
      "text/html": [
       "<html>\\(\\displaystyle \\left(\\begin{array}{rr|r}\n",
       "1 & \\frac{2}{3} & \\frac{7}{3} \\\\\n",
       "0 & 0 & 0\n",
       "\\end{array}\\right)\\)</html>"
      ],
      "text/latex": [
       "$\\displaystyle \\left(\\begin{array}{rr|r}\n",
       "1 & \\frac{2}{3} & \\frac{7}{3} \\\\\n",
       "0 & 0 & 0\n",
       "\\end{array}\\right)$"
      ],
      "text/plain": [
       "[  1 2/3|7/3]\n",
       "[  0   0|  0]"
      ]
     },
     "metadata": {},
     "output_type": "display_data"
    }
   ],
   "source": [
    "A_rref = A_aug.rref()\n",
    "show(A_rref)"
   ]
  },
  {
   "cell_type": "code",
   "execution_count": 9,
   "id": "ff05caf7-d7ab-46cc-aff0-d6f813965dd1",
   "metadata": {},
   "outputs": [
    {
     "data": {
      "text/plain": [
       "(0,)"
      ]
     },
     "execution_count": 9,
     "metadata": {},
     "output_type": "execute_result"
    }
   ],
   "source": [
    "A_rref.pivots()"
   ]
  },
  {
   "cell_type": "markdown",
   "id": "78317cf3-5ec1-469f-a591-9594695bda9b",
   "metadata": {},
   "source": [
    "We can see that there is only one pivot - for the variable `x`.  \n",
    "\n",
    "Because there is a **row with no pivots** this system has infinite solutions.\n",
    "\n",
    "In this case `y` is a **free variable** as it doesn't have a pivot.\n",
    "\n",
    "By swapping terms so that $x$ is dependent on $y$, we can see that: $x == -2/3*y + 7/3$"
   ]
  },
  {
   "cell_type": "markdown",
   "id": "e0adb75a-03d9-47e4-aea1-c00c44908e08",
   "metadata": {},
   "source": [
    "<div style=\"background-color:yellow; padding: 5px 10px 0px 10px; border: 1px solid black;\">\n",
    "    \n",
    "Definition: **Free variable**\n",
    "\n",
    "In linear algebra, a free variable is a variable that can take on any value independently of other variables in a system of linear equations.\n",
    "\n",
    "</div>"
   ]
  },
  {
   "cell_type": "markdown",
   "id": "7be37be1-c681-408b-9491-8182e23c58b2",
   "metadata": {},
   "source": [
    "When you have an equation like $x = -\\frac{2}{3}y + \\frac{7}{3}$, it represents a linear relationship between the variables $x$ and $y$. In this equation, $x$ is expressed in terms of $y$. \n",
    "\n",
    "For any real number you choose for $y$, you can calculate the corresponding value of $x$ using the given relationship. Therefore, **every real number you choose for $y$ will yield a corresponding solution for $x$**, making the solution set infinite and continuous along a line with slope $-\\frac{2}{3}$ and y-intercept $\\frac{7}{3}$."
   ]
  },
  {
   "cell_type": "markdown",
   "id": "38be47b9-7fca-47db-85d3-1af7a9c02712",
   "metadata": {},
   "source": [
    "Here are two example solutions in this infinite solution set:\n",
    "\n",
    "**Example 1.**\n",
    "\n",
    "Let's choose $ y = 0 $. Using the equation $ x = -\\frac{2}{3}y + \\frac{7}{3} $, we can calculate $ x $:\n",
    "\n",
    "$x = -\\frac{2}{3}(0) + \\frac{7}{3} = \\frac{7}{3}$\n",
    "So, when $ y = 0 $, $ x = \\frac{7}{3} $. Therefore, one solution is $ (x, y) = \\left(\\frac{7}{3}, 0\\right) $.\n",
    "\n",
    "**Example 2.**\n",
    "\n",
    "Now, let's choose $ y = 3 $. Using the same equation:\n",
    "\n",
    "$x = -\\frac{2}{3}(3) + \\frac{7}{3} = -2 + \\frac{7}{3} = \\frac{1}{3}$\n",
    "So, when $ y = 3 $, $ x = \\frac{1}{3} $. Another solution is $ (x, y) = \\left(\\frac{1}{3}, 3\\right) $."
   ]
  },
  {
   "cell_type": "code",
   "execution_count": 10,
   "id": "b5841240-db5e-4e49-bf62-404b7495e6c4",
   "metadata": {},
   "outputs": [
    {
     "data": {
      "image/png": "[encoded data removed]",
      "text/plain": [
       "Graphics Array of size 1 x 2"
      ]
     },
     "metadata": {},
     "output_type": "display_data"
    }
   ],
   "source": [
    "# Define the symbolic variables\n",
    "x, y = var('x y')\n",
    "\n",
    "# Define the equations\n",
    "equation1 = 2*x + 3*y == 6\n",
    "equation2 = 4*x + 6*y == 12\n",
    "\n",
    "# Create the plots using implicit_plot\n",
    "plot1 = implicit_plot(equation1, (x, -10, 10), (y, -10, 10), color='red', gridlines='faint')\n",
    "plot2 = implicit_plot(equation2, (x, -10, 10), (y, -10, 10), color='blue', gridlines='faint')\n",
    "\n",
    "# Show plots side by side with equation text\n",
    "(graphics_array([[plot1, plot2]])).show(figsize=6)"
   ]
  },
  {
   "cell_type": "markdown",
   "id": "78930603-7a59-4044-8578-539a1f5744ab",
   "metadata": {},
   "source": [
    "### No Solution"
   ]
  },
  {
   "cell_type": "markdown",
   "id": "39096045-43cd-474d-a6fa-3f0c336d4e0e",
   "metadata": {},
   "source": [
    "### Solution automation"
   ]
  },
  {
   "cell_type": "code",
   "execution_count": 11,
   "id": "b80fc886-6cba-47c6-977c-838d019d6165",
   "metadata": {},
   "outputs": [],
   "source": [
    "def solution_details(augmented_matrix, vars=None):\n",
    "    try:\n",
    "        num_coeff_cols = augmented_matrix.subdivisions()[1][0]\n",
    "        if not num_coeff_cols > 0:\n",
    "            raise ValueError(\"Subdivided augmented matrix required.\")\n",
    "    except (AttributeError, IndexError):\n",
    "        raise ValueError(\"Subdivided augmented matrix required.\")\n",
    "\n",
    "    pivots = augmented_matrix.pivots()\n",
    "    const_col = num_coeff_cols + 1\n",
    "\n",
    "    print(\"Matrix and RREF:\")\n",
    "    import sys\n",
    "\n",
    "    u = [augmented_matrix, augmented_matrix.rref()]\n",
    "    show(augmented_matrix, augmented_matrix.rref())\n",
    "\n",
    "    print()\n",
    "    \n",
    "    # is RHS all zeros\n",
    "    is_zero = all(component == 0 for component in augmented_matrix[:, -1])\n",
    "    if is_zero:\n",
    "        print('Matrix is homogeneous, must be consistent (always at least one soln - the 0 vector).')\n",
    "    else:\n",
    "        print('Matrix is not homogeneous - can be inconsistent.')\n",
    "\n",
    "    if (const_col - 1) in pivots:\n",
    "        print('No Solution (Inconsistent - const col has pivot)')\n",
    "    else:\n",
    "        if len(pivots) == num_coeff_cols:\n",
    "            print(\"Unique Solution (Consistent, pivot position in each col)\")\n",
    "        elif len(pivots) < num_coeff_cols:\n",
    "            print('Infinitely Many Solutions (Consistent, >= 1 coeff col with no pivots)')\n",
    "\n",
    "    solution, X, X_pivots, X_free, param_sol_dict = my_solve(augmented_matrix, vars)\n",
    "    \n",
    "    print(\"Variables: \", X)\n",
    "    print(\"Pivots (leading) variables: \", X_pivots)\n",
    "    print(\"Free variables: \", X_free)\n",
    "    print()\n",
    "\n",
    "    if solution:\n",
    "        # flatten solution list\n",
    "        import operator\n",
    "        solution = reduce(operator.concat, solution)\n",
    "        \n",
    "        print(\"Solution: \")\n",
    "        [print(f'  {s}') for s in solution if len(solution)]\n",
    "        print()\n",
    "\n",
    "    if param_sol_dict:\n",
    "        print(\"Parametized solution vectors\")\n",
    "        print(\"(particular + unrestricted combination)\")\n",
    "        for key, value in param_sol_dict.items():\n",
    "            print(f\"{key}: {str(value[0]).rjust(10)} {' '.join(str(v).rjust(10) for v in value[1])}\")\n",
    "        print()\n",
    "\n",
    "def my_solve(augmented_matrix, vars=None):\n",
    "    A = augmented_matrix[:, :-1]\n",
    "    Y = augmented_matrix[:, -1]\n",
    "\n",
    "    m, n = A.dimensions()\n",
    "    p, q = Y.dimensions()\n",
    "\n",
    "    if m != p:\n",
    "        raise RuntimeError(\"The matrices have different numbers of rows\")\n",
    "\n",
    "    if vars and len(vars) != n:\n",
    "        raise RuntimeError(f\"Provided variables '{vars}' != number of columns '{n}'\")\n",
    "\n",
    "    if vars:\n",
    "        X = vector([var(vars[i]) for i in range(n)])\n",
    "    else:\n",
    "        X = vector([var(f\"x_{i}\") for i in range(n)])\n",
    "\n",
    "    X_pivots = vector([var(X[i]) for i in range(n) if i in A.pivots()])\n",
    "    X_free = vector([var(X[i]) for i in range(n) if i not in A.pivots()])\n",
    "\n",
    "    sols = []\n",
    "    param_sol_dict = {}\n",
    "    for j in range(q):\n",
    "        system = [A[i] * X == Y[i, j] for i in range(m)]\n",
    "        sol = solve(system, *X_pivots)\n",
    "\n",
    "        if len(sol):\n",
    "            for s in sol[0]:\n",
    "                coefficients = [s.rhs().coefficient(var) for var in X_free]\n",
    "                constant_term = s.rhs() - sum(coeff * var for coeff, var in zip(coefficients, X_free))\n",
    "                \n",
    "                coeff_var_pairs = [(coeff, var) for coeff, var in zip(coefficients, X_free)]\n",
    "                coeff_var_strings = [f\"{coeff}{var}\" for coeff, var in coeff_var_pairs]\n",
    "\n",
    "                if len(X_free):\n",
    "                    param_sol_dict[str(s.lhs())] = [constant_term, coeff_var_strings]\n",
    "\n",
    "            if len(X_free):\n",
    "                for free_var in X_free:\n",
    "                    param_sol_dict[str(free_var)] = [0, [f'1{var}' if var == free_var else f'0{var}' for var in X_free]]\n",
    "\n",
    "            sols += sol\n",
    "\n",
    "    return sols, X, X_pivots, X_free, param_sol_dict\n"
   ]
  },
  {
   "cell_type": "code",
   "execution_count": 12,
   "id": "daa72470-4988-4f73-a748-57d7882752e4",
   "metadata": {},
   "outputs": [
    {
     "name": "stdout",
     "output_type": "stream",
     "text": [
      "Matrix and RREF:\n"
     ]
    },
    {
     "data": {
      "text/html": [
       "<html>\\(\\displaystyle \\left(\\begin{array}{rrr|r}\n",
       "1 & 2 & 3 & 4 \\\\\n",
       "0 & 1 & 2 & 3 \\\\\n",
       "0 & 0 & 1 & 2\n",
       "\\end{array}\\right) \\left(\\begin{array}{rrr|r}\n",
       "1 & 0 & 0 & 0 \\\\\n",
       "0 & 1 & 0 & -1 \\\\\n",
       "0 & 0 & 1 & 2\n",
       "\\end{array}\\right)\\)</html>"
      ],
      "text/latex": [
       "$\\displaystyle \\left(\\begin{array}{rrr|r}\n",
       "1 & 2 & 3 & 4 \\\\\n",
       "0 & 1 & 2 & 3 \\\\\n",
       "0 & 0 & 1 & 2\n",
       "\\end{array}\\right) \\left(\\begin{array}{rrr|r}\n",
       "1 & 0 & 0 & 0 \\\\\n",
       "0 & 1 & 0 & -1 \\\\\n",
       "0 & 0 & 1 & 2\n",
       "\\end{array}\\right)$"
      ],
      "text/plain": [
       "[1 2 3|4]\n",
       "[0 1 2|3]\n",
       "[0 0 1|2] [ 1  0  0| 0]\n",
       "[ 0  1  0|-1]\n",
       "[ 0  0  1| 2]"
      ]
     },
     "metadata": {},
     "output_type": "display_data"
    },
    {
     "name": "stdout",
     "output_type": "stream",
     "text": [
      "\n",
      "Matrix is not homogeneous - can be inconsistent.\n",
      "Unique Solution (Consistent, pivot position in each col)\n",
      "Variables:  (x_0, x_1, x_2)\n",
      "Pivots (leading) variables:  (x_0, x_1, x_2)\n",
      "Free variables:  ()\n",
      "\n",
      "Solution: \n",
      "  x_0 == 0\n",
      "  x_1 == -1\n",
      "  x_2 == 2\n",
      "\n"
     ]
    }
   ],
   "source": [
    "# Examples\n",
    "\n",
    "M = matrix(QQ, 3, [1,2,3,0,1,2,0,0,1])\n",
    "v = vector(QQ, [4,3,2])\n",
    "Maug = M.augment(v, subdivide=True)\n",
    "solution_details(Maug)"
   ]
  },
  {
   "cell_type": "code",
   "execution_count": 13,
   "id": "0476b73a-ef9c-4af5-9e82-75230e8a9a18",
   "metadata": {
    "scrolled": true
   },
   "outputs": [
    {
     "name": "stdout",
     "output_type": "stream",
     "text": [
      "Matrix and RREF:\n"
     ]
    },
    {
     "data": {
      "text/html": [
       "<html>\\(\\displaystyle \\left(\\begin{array}{rrrrr|r}\n",
       "2 & 1 & 0 & -1 & 0 & 4 \\\\\n",
       "0 & 1 & 0 & 1 & 1 & 4 \\\\\n",
       "1 & 0 & -1 & 2 & 0 & 0\n",
       "\\end{array}\\right) \\left(\\begin{array}{rrrrr|r}\n",
       "1 & 0 & 0 & -1 & -\\frac{1}{2} & 0 \\\\\n",
       "0 & 1 & 0 & 1 & 1 & 4 \\\\\n",
       "0 & 0 & 1 & -3 & -\\frac{1}{2} & 0\n",
       "\\end{array}\\right)\\)</html>"
      ],
      "text/latex": [
       "$\\displaystyle \\left(\\begin{array}{rrrrr|r}\n",
       "2 & 1 & 0 & -1 & 0 & 4 \\\\\n",
       "0 & 1 & 0 & 1 & 1 & 4 \\\\\n",
       "1 & 0 & -1 & 2 & 0 & 0\n",
       "\\end{array}\\right) \\left(\\begin{array}{rrrrr|r}\n",
       "1 & 0 & 0 & -1 & -\\frac{1}{2} & 0 \\\\\n",
       "0 & 1 & 0 & 1 & 1 & 4 \\\\\n",
       "0 & 0 & 1 & -3 & -\\frac{1}{2} & 0\n",
       "\\end{array}\\right)$"
      ],
      "text/plain": [
       "[ 2  1  0 -1  0| 4]\n",
       "[ 0  1  0  1  1| 4]\n",
       "[ 1  0 -1  2  0| 0] [   1    0    0   -1 -1/2|   0]\n",
       "[   0    1    0    1    1|   4]\n",
       "[   0    0    1   -3 -1/2|   0]"
      ]
     },
     "metadata": {},
     "output_type": "display_data"
    },
    {
     "name": "stdout",
     "output_type": "stream",
     "text": [
      "\n",
      "Matrix is not homogeneous - can be inconsistent.\n",
      "Infinitely Many Solutions (Consistent, >= 1 coeff col with no pivots)\n",
      "Variables:  (x, y, z, w, u)\n",
      "Pivots (leading) variables:  (x, y, z)\n",
      "Free variables:  (w, u)\n",
      "\n",
      "Solution: \n",
      "  x == 1/2*u + w\n",
      "  y == -u - w + 4\n",
      "  z == 1/2*u + 3*w\n",
      "\n",
      "Parametized solution vectors\n",
      "(particular + unrestricted combination)\n",
      "x:          0         1w       1/2u\n",
      "y:          4        -1w        -1u\n",
      "z:          0         3w       1/2u\n",
      "w:          0         1w         0u\n",
      "u:          0         0w         1u\n",
      "\n"
     ]
    }
   ],
   "source": [
    "M = matrix(QQ, 3, [2,1,0,-1,0,   0,1,0,1,1,   1,0,-1,2,0])\n",
    "v = vector(QQ, [4,4,0])\n",
    "Maug = M.augment(v, subdivide=True)\n",
    "solution_details(Maug, var('x y z w u'))"
   ]
  },
  {
   "cell_type": "code",
   "execution_count": 14,
   "id": "d86ee592-4afb-42a5-8646-35760311b409",
   "metadata": {},
   "outputs": [
    {
     "name": "stdout",
     "output_type": "stream",
     "text": [
      "Matrix and RREF:\n"
     ]
    },
    {
     "data": {
      "text/html": [
       "<html>\\(\\displaystyle \\left(\\begin{array}{rrr|r}\n",
       "1 & 2 & 3 & 4 \\\\\n",
       "0 & 1 & 2 & 3 \\\\\n",
       "0 & 0 & 0 & 1\n",
       "\\end{array}\\right) \\left(\\begin{array}{rrr|r}\n",
       "1 & 0 & -1 & 0 \\\\\n",
       "0 & 1 & 2 & 0 \\\\\n",
       "0 & 0 & 0 & 1\n",
       "\\end{array}\\right)\\)</html>"
      ],
      "text/latex": [
       "$\\displaystyle \\left(\\begin{array}{rrr|r}\n",
       "1 & 2 & 3 & 4 \\\\\n",
       "0 & 1 & 2 & 3 \\\\\n",
       "0 & 0 & 0 & 1\n",
       "\\end{array}\\right) \\left(\\begin{array}{rrr|r}\n",
       "1 & 0 & -1 & 0 \\\\\n",
       "0 & 1 & 2 & 0 \\\\\n",
       "0 & 0 & 0 & 1\n",
       "\\end{array}\\right)$"
      ],
      "text/plain": [
       "[1 2 3|4]\n",
       "[0 1 2|3]\n",
       "[0 0 0|1] [ 1  0 -1| 0]\n",
       "[ 0  1  2| 0]\n",
       "[ 0  0  0| 1]"
      ]
     },
     "metadata": {},
     "output_type": "display_data"
    },
    {
     "name": "stdout",
     "output_type": "stream",
     "text": [
      "\n",
      "Matrix is not homogeneous - can be inconsistent.\n",
      "No Solution (Inconsistent - const col has pivot)\n",
      "Variables:  (a, b, c)\n",
      "Pivots (leading) variables:  (a, b)\n",
      "Free variables:  (c)\n",
      "\n"
     ]
    }
   ],
   "source": [
    "M = matrix(QQ, 3, [1,2,3,0,1,2,0,0,0])\n",
    "v = vector(QQ, [4,3,1])\n",
    "Maug = M.augment(v, subdivide=True)\n",
    "solution_details(Maug, var('a b c'))"
   ]
  },
  {
   "cell_type": "code",
   "execution_count": null,
   "id": "b209396c-27a8-45cd-8ba8-ba1188ac4fdf",
   "metadata": {},
   "outputs": [],
   "source": []
  }
 ],
 "metadata": {
  "kernelspec": {
   "display_name": "SageMath 10.3",
   "language": "sage",
   "name": "sagemath"
  },
  "language_info": {
   "codemirror_mode": {
    "name": "ipython",
    "version": 3
   },
   "file_extension": ".py",
   "mimetype": "text/x-python",
   "name": "python",
   "nbconvert_exporter": "python",
   "pygments_lexer": "ipython3",
   "version": "3.10.12"
  }
 },
 "nbformat": 4,
 "nbformat_minor": 5
}
