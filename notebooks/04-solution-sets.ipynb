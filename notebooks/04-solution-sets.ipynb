{
 "cells": [
  {
   "cell_type": "markdown",
   "id": "d53cf3db-efdb-46d9-afc5-350d447aa2b9",
   "metadata": {},
   "source": [
    "### Introduction\n",
    "\n",
    "In linear algebra, a **solution set** is the collection of all possible values for variables that satisfy a system of linear equations. It can be a single point, representing a unique solution; a line, plane, or higher-dimensional space, indicating infinitely many solutions; or empty, meaning no solutions exist. Solution sets help understand the relationships between equations and characterize the properties of linear systems. It's called a \"set\" because it contains all valid solutions for a linear system.\n"
   ]
  },
  {
   "cell_type": "markdown",
   "id": "e3f86399-f4f8-4135-b895-74eafceaf95d",
   "metadata": {},
   "source": [
    "### Definitions"
   ]
  },
  {
   "cell_type": "markdown",
   "id": "6039873b-ad1e-4f5f-93b3-94abb407b248",
   "metadata": {},
   "source": [
    "Let's begin with our augmented RREF matrix from the previous section:\n",
    "\n",
    "$$\n",
    "\\displaystyle \\left(\\begin{array}{rrr|r}\n",
    "1 & 0 & 0 & \\frac{8}{9} \\\\\n",
    "0 & 1 & 0 & \\frac{7}{3} \\\\\n",
    "0 & 0 & 1 & \\frac{14}{9}\n",
    "\\end{array}\\right)\n",
    "$$\n",
    "\n",
    "- **Coefficients**: the columns to the left of the vertical bar\n",
    "- **Constants**: the column to the right of the vertical bar\n",
    "- **Pivots**:  a pivot element is a nonzero element that is the first nonzero entry in its row when using the Gaussian elimination method to convert the matrix into row echelon form or reduced row echelon form\n",
    "\n",
    "In the above example, we have a pivot in each **coefficient** column."
   ]
  },
  {
   "cell_type": "markdown",
   "id": "4d5f98a2-5e1c-4d84-ad17-cd69e8904dc2",
   "metadata": {},
   "source": [
    "SageMath has a method `pivots()` to return the pivot locations for a matrix:"
   ]
  },
  {
   "cell_type": "code",
   "execution_count": 1,
   "id": "ab6f8dda-4808-444a-975e-0dc0ac412261",
   "metadata": {},
   "outputs": [
    {
     "data": {
      "text/plain": [
       "(0, 1, 2)"
      ]
     },
     "execution_count": 1,
     "metadata": {},
     "output_type": "execute_result"
    }
   ],
   "source": [
    "A = Matrix([[1, 0, 0, 8/9],\n",
    "            [0, 1, 0, 7/3],\n",
    "            [0, 0, 1, 14/9]])\n",
    "\n",
    "A.pivots()"
   ]
  },
  {
   "cell_type": "markdown",
   "id": "7362fa41-1e42-4096-8238-7b45c9847f10",
   "metadata": {},
   "source": [
    "### Determining how many solutions"
   ]
  },
  {
   "cell_type": "markdown",
   "id": "7483159b-a801-4bdc-a327-888ba5428cab",
   "metadata": {},
   "source": [
    "The following RREF's show the three types of solutions that are possible:"
   ]
  },
  {
   "cell_type": "markdown",
   "id": "5194f2af-8945-41f8-be1b-99ab439b0b3d",
   "metadata": {},
   "source": [
    "<div style=\"display: flex;\">\n",
    "<div style=\"flex: 1;\">\n",
    "$$\n",
    "\\left(\\begin{array}{rr|r}\n",
    "1 & 0 & \\frac{-2}{7} \\\\\n",
    "0 & 1 & \\frac{4}{7} \\\\\n",
    "\\end{array}\\right)\n",
    "$$\n",
    "Unique Solution\n",
    "</div>\n",
    "<div style=\"margin-left: 20px; flex: 1;\">\n",
    "$$\n",
    "\\left(\\begin{array}{rr|r}\n",
    "1 & 0 & 2 \\\\\n",
    "0 & 1 & 3 \\\\\n",
    "0 & 0 & 0 \\\\\n",
    "\\end{array}\\right)\n",
    "$$\n",
    "Infinite Solutions\n",
    "</div>\n",
    "<div style=\"margin-left: 20px; flex: 1;\">\n",
    "$$\n",
    "\\left(\\begin{array}{rr|r}\n",
    "1 & 0 & 2 \\\\\n",
    "0 & 1 & 3 \\\\\n",
    "0 & 0 & 1 \\\\\n",
    "\\end{array}\\right)\n",
    "$$\n",
    "No solutions\n",
    "</div>\n",
    "</div>\n"
   ]
  },
  {
   "cell_type": "markdown",
   "id": "6904d45e-12fd-45ff-8a48-450021b667a7",
   "metadata": {},
   "source": [
    "- **Unique Solution**:  a unique solution has a pivot in all **coefficient columns**\n",
    "- **Infinite Solutions**: infinite solutions have a **row with no pivots**\n",
    "- **No Solution**: there are no solutions if the pivot is in the **constant column**\n",
    "\n",
    "Let's elaborate on each of these"
   ]
  },
  {
   "cell_type": "markdown",
   "id": "e50977b4-a31c-4897-9d43-63df4c3dc8dc",
   "metadata": {},
   "source": [
    "### Unique Solution"
   ]
  },
  {
   "cell_type": "code",
   "execution_count": null,
   "id": "c7eadba8-5813-4719-9149-1dc3e1982537",
   "metadata": {},
   "outputs": [],
   "source": [
    "A = Matrix([[3, -2],[1, 4]])\n",
    "b = vector([-2,2])\n",
    "\n",
    "A_aug = A.augment(b, subdivide=True)\n",
    "show(A_aug)"
   ]
  },
  {
   "cell_type": "code",
   "execution_count": null,
   "id": "0372bc19-1420-452d-9efc-ed719bdd62e5",
   "metadata": {},
   "outputs": [],
   "source": [
    "A_rref = A_aug.rref()\n",
    "show(A_rref)"
   ]
  },
  {
   "cell_type": "code",
   "execution_count": null,
   "id": "50059f6b-7dde-4e07-b06b-2bce53f98bee",
   "metadata": {},
   "outputs": [],
   "source": [
    "A_rref.pivots()"
   ]
  },
  {
   "cell_type": "markdown",
   "id": "41752e26-aded-49e8-83b6-0e6b5671debc",
   "metadata": {},
   "source": [
    "We have a pivot in each coefficient column so this is a unique solution.\n",
    "\n",
    "Let's verify."
   ]
  },
  {
   "cell_type": "code",
   "execution_count": null,
   "id": "98b7a706-cbe6-4e23-9601-597d202bc393",
   "metadata": {},
   "outputs": [],
   "source": [
    "A.solve_right(b) # note we are using the A matrix, not the augmented matrix A_aug"
   ]
  },
  {
   "cell_type": "code",
   "execution_count": null,
   "id": "284da176-c057-4d03-ba59-fc606fbcb7e8",
   "metadata": {},
   "outputs": [],
   "source": [
    "var('x y')\n",
    "\n",
    "equation1 = 3*x - 2*y == -2\n",
    "equation2 = x + 4*y == 2\n",
    "\n",
    "# Create the plots using implicit_plot\n",
    "plot1 = implicit_plot(equation1, (x, -5, 5), (y, -5, 5), color='red')\n",
    "plot2 = implicit_plot(equation2, (x, -5, 5), (y, -5, 5), color='blue')\n",
    "\n",
    "# Combine plots and show with intersection point\n",
    "(plot1 + plot2).show(title='Linear System Plot', figsize=4)"
   ]
  },
  {
   "cell_type": "markdown",
   "id": "60481d71-22bc-4cc0-8cf1-2e24a8275929",
   "metadata": {},
   "source": [
    "Here we can visually see that the lines meet at exactly one point - a unique solution"
   ]
  },
  {
   "cell_type": "markdown",
   "id": "e955a7c1-5ff4-42b7-8666-8ecd318ee5e4",
   "metadata": {},
   "source": [
    "### Infinite Solutions"
   ]
  },
  {
   "cell_type": "markdown",
   "id": "78930603-7a59-4044-8578-539a1f5744ab",
   "metadata": {},
   "source": [
    "### No Solution"
   ]
  },
  {
   "cell_type": "code",
   "execution_count": null,
   "id": "b80fc886-6cba-47c6-977c-838d019d6165",
   "metadata": {},
   "outputs": [],
   "source": []
  }
 ],
 "metadata": {
  "kernelspec": {
   "display_name": "SageMath 10.3",
   "language": "sage",
   "name": "sagemath"
  },
  "language_info": {
   "codemirror_mode": {
    "name": "ipython",
    "version": 3
   },
   "file_extension": ".py",
   "mimetype": "text/x-python",
   "name": "python",
   "nbconvert_exporter": "python",
   "pygments_lexer": "ipython3",
   "version": "3.10.12"
  }
 },
 "nbformat": 4,
 "nbformat_minor": 5
}
