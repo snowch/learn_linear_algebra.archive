{
 "cells": [
  {
   "cell_type": "markdown",
   "id": "28f3d137-9255-4904-9197-89384ba7787f",
   "metadata": {},
   "source": [
    "Eigenvalues and Eigenvectors: Introduce the concept of eigenvalues and eigenvectors, their geometric interpretation (as invariant directions under a transformation), and their computation. Discuss the diagonalization of matrices and its applications."
   ]
  },
  {
   "cell_type": "code",
   "execution_count": null,
   "id": "acacf6d6-b1ae-452d-9fba-e39c7d78dd6d",
   "metadata": {},
   "outputs": [],
   "source": []
  }
 ],
 "metadata": {
  "kernelspec": {
   "display_name": "SageMath 10.3",
   "language": "sage",
   "name": "sagemath"
  },
  "language_info": {
   "codemirror_mode": {
    "name": "ipython",
    "version": 3
   },
   "file_extension": ".py",
   "mimetype": "text/x-python",
   "name": "python",
   "nbconvert_exporter": "python",
   "pygments_lexer": "ipython3",
   "version": "3.10.12"
  }
 },
 "nbformat": 4,
 "nbformat_minor": 5
}
