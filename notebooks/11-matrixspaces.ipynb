{
 "cells": [
  {
   "cell_type": "markdown",
   "id": "c948d825-aeb6-4e8a-afb9-ebf6220bb437",
   "metadata": {},
   "source": [
    "### Introduction"
   ]
  },
  {
   "cell_type": "markdown",
   "id": "ff066c40-b6fd-4ddf-aa55-2091ac0c5507",
   "metadata": {},
   "source": [
    "Let's dive into the concept of matrix spaces and illustrate them with SageMath examples.\n"
   ]
  },
  {
   "cell_type": "markdown",
   "id": "17f28842-a175-4217-ae2b-c46dc9903d86",
   "metadata": {},
   "source": [
    "### What is a Matrix Space?"
   ]
  },
  {
   "cell_type": "markdown",
   "id": "53b58ca5-fb97-47c7-9f5f-2bcde1f0b18f",
   "metadata": {},
   "source": [
    "A matrix space is a set of matrices that have the same dimensions (same number of rows and columns) and share the following properties:\n",
    "\n",
    "1. **Closure under Addition:** Adding any two matrices within the space results in another matrix that also belongs to the space.\n",
    "2. **Closure under Scalar Multiplication:** Multiplying any matrix in the space by a scalar (a number) produces a matrix that remains within the space.\n",
    "\n",
    "In essence, a matrix space is a vector space where the \"vectors\" are matrices.\n",
    "\n",
    "**SageMath Examples**\n",
    "\n",
    "SageMath is a fantastic tool for exploring matrix spaces. Let's work through some examples:\n"
   ]
  },
  {
   "cell_type": "markdown",
   "id": "e07d7596-252f-4125-863f-d82d481a509b",
   "metadata": {},
   "source": [
    "### The Space of All 2x2 Matrices"
   ]
  },
  {
   "cell_type": "code",
   "execution_count": 1,
   "id": "35df9d4d-be18-46f9-ab80-f2bb0b155928",
   "metadata": {},
   "outputs": [
    {
     "data": {
      "text/html": [
       "<html>\\(\\displaystyle \\left(\\begin{array}{rr}\n",
       "1 & 1 \\\\\n",
       "5 & 5\n",
       "\\end{array}\\right)\\)</html>"
      ],
      "text/latex": [
       "$\\displaystyle \\left(\\begin{array}{rr}\n",
       "1 & 1 \\\\\n",
       "5 & 5\n",
       "\\end{array}\\right)$"
      ],
      "text/plain": [
       "[1 1]\n",
       "[5 5]"
      ]
     },
     "metadata": {},
     "output_type": "display_data"
    }
   ],
   "source": [
    "M = MatrixSpace(QQ, 2, 2)  # Matrix space over rational numbers\n",
    "A = M([1, 2, 3, 4]) \n",
    "B = M([0, -1, 2, 1])\n",
    "show(A + B)"
   ]
  },
  {
   "cell_type": "code",
   "execution_count": 2,
   "id": "4e79b5c1-a20b-4799-aa8a-0385d48f60b4",
   "metadata": {},
   "outputs": [
    {
     "data": {
      "text/html": [
       "<html>\\(\\displaystyle \\left(\\begin{array}{rr}\n",
       "3 & 6 \\\\\n",
       "9 & 12\n",
       "\\end{array}\\right)\\)</html>"
      ],
      "text/latex": [
       "$\\displaystyle \\left(\\begin{array}{rr}\n",
       "3 & 6 \\\\\n",
       "9 & 12\n",
       "\\end{array}\\right)$"
      ],
      "text/plain": [
       "[ 3  6]\n",
       "[ 9 12]"
      ]
     },
     "metadata": {},
     "output_type": "display_data"
    }
   ],
   "source": [
    "show(3 * A)"
   ]
  },
  {
   "cell_type": "markdown",
   "id": "37db7149-1450-4b93-94ed-7192371a63db",
   "metadata": {},
   "source": [
    "\n",
    "* We define `M` as the space of all 2x2 matrices with rational number entries.\n",
    "* `A` and `B` are examples of matrices in this space.\n",
    "* We demonstrate closure under addition and scalar multiplication.\n"
   ]
  },
  {
   "cell_type": "markdown",
   "id": "7edc2009-795a-410b-9e30-f66a24d721e4",
   "metadata": {},
   "source": [
    "### The Space of Symmetric 2x2 Matrices"
   ]
  },
  {
   "cell_type": "code",
   "execution_count": 3,
   "id": "c1eb42ec-3c7b-4737-afef-8706dc260a16",
   "metadata": {},
   "outputs": [
    {
     "name": "stdout",
     "output_type": "stream",
     "text": [
      "Matrix C is:\n",
      "[1 2]\n",
      "[2 3]\n",
      "Matrix D is:\n",
      "[ 0  1]\n",
      "[ 1 -1]\n",
      "Matrix C + D is:\n",
      "[1 3]\n",
      "[3 2]\n",
      "Is C + D symmetric? True\n"
     ]
    }
   ],
   "source": [
    "# Define the matrix space over the rationals with dimension 2x2\n",
    "M = MatrixSpace(QQ, 2)\n",
    "\n",
    "# Define the matrices C and D\n",
    "C = M([1, 2, 2, 3])  \n",
    "D = M([0, 1, 1, -1]) \n",
    "\n",
    "# Sum the matrices\n",
    "E = C + D\n",
    "\n",
    "# Check if E is symmetric by comparing it to its transpose\n",
    "is_symmetric = E == E.transpose()\n",
    "\n",
    "# Print the result\n",
    "print(\"Matrix C is:\")\n",
    "print(C)\n",
    "print(\"Matrix D is:\")\n",
    "print(D)\n",
    "print(\"Matrix C + D is:\")\n",
    "print(E)\n",
    "print(\"Is C + D symmetric?\", is_symmetric)\n"
   ]
  },
  {
   "cell_type": "markdown",
   "id": "87767692-36b8-414f-8eea-9f1df601ea15",
   "metadata": {},
   "source": [
    "### The Space of Upper Triangular 3x3 Matrices"
   ]
  },
  {
   "cell_type": "code",
   "execution_count": 4,
   "id": "ecf7da0d-9bcf-4f55-93a2-08e6519da4e0",
   "metadata": {},
   "outputs": [
    {
     "name": "stdout",
     "output_type": "stream",
     "text": [
      "Matrix E is:\n",
      "[1 2 3]\n",
      "[0 4 5]\n",
      "[0 0 6]\n",
      "Matrix F is:\n",
      "[-1  0  2]\n",
      "[ 0  3  1]\n",
      "[ 0  0 -2]\n",
      "Matrix E + F is:\n",
      "[0 2 5]\n",
      "[0 7 6]\n",
      "[0 0 4]\n",
      "Is E + F upper triangular? True\n"
     ]
    }
   ],
   "source": [
    "# Import the necessary module\n",
    "from sage.all import MatrixSpace, matrix, RR\n",
    "\n",
    "# Define the matrix space over the real numbers with dimension 3x3\n",
    "M = MatrixSpace(QQ, 3, 3)\n",
    "\n",
    "# Define the upper triangular matrices E and F\n",
    "E = M([[1, 2, 3], [0, 4, 5], [0, 0, 6]])\n",
    "F = M([[-1, 0, 2], [0, 3, 1], [0, 0, -2]])\n",
    "\n",
    "# Sum the matrices\n",
    "G = E + F\n",
    "\n",
    "# Check if G is upper triangular\n",
    "is_upper_triangular = all(G[i, j] == 0 for i in range(3) for j in range(i))\n",
    "\n",
    "# Print the result\n",
    "print(\"Matrix E is:\")\n",
    "print(E)\n",
    "print(\"Matrix F is:\")\n",
    "print(F)\n",
    "print(\"Matrix E + F is:\")\n",
    "print(G)\n",
    "print(\"Is E + F upper triangular?\", is_upper_triangular)\n"
   ]
  },
  {
   "cell_type": "markdown",
   "id": "aad80f9c-a55d-42c9-912c-91b812ff8ed7",
   "metadata": {},
   "source": [
    "### Key Concepts"
   ]
  },
  {
   "cell_type": "markdown",
   "id": "90d2dc0c-9692-4944-ba0f-098ac161c7f1",
   "metadata": {},
   "source": [
    "* **Basis:** A set of matrices that span the entire matrix space and are linearly independent. You can find a basis for a matrix space using SageMath's `.basis()` method.\n",
    "* **Dimension:** The number of matrices in a basis for the space.\n",
    "* **Subspaces:** Smaller matrix spaces contained within a larger one.\n"
   ]
  },
  {
   "cell_type": "code",
   "execution_count": null,
   "id": "f828315e-4ea4-4de6-9b77-e453dee3e870",
   "metadata": {},
   "outputs": [],
   "source": []
  }
 ],
 "metadata": {
  "kernelspec": {
   "display_name": "SageMath 10.3",
   "language": "sage",
   "name": "sagemath"
  },
  "language_info": {
   "codemirror_mode": {
    "name": "ipython",
    "version": 3
   },
   "file_extension": ".py",
   "mimetype": "text/x-python",
   "name": "python",
   "nbconvert_exporter": "python",
   "pygments_lexer": "ipython3",
   "version": "3.10.12"
  }
 },
 "nbformat": 4,
 "nbformat_minor": 5
}
